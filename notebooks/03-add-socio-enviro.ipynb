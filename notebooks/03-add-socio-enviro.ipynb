{
 "cells": [
  {
   "cell_type": "code",
   "execution_count": 83,
   "metadata": {},
   "outputs": [
    {
     "name": "stdout",
     "output_type": "stream",
     "text": [
      "The autoreload extension is already loaded. To reload it, use:\n",
      "  %reload_ext autoreload\n"
     ]
    }
   ],
   "source": [
    "#try this with arcpy and pandas and see if it's possible\n",
    "#might just be some spatial joins to contend with and then use pandas for everything else\n",
    "\n",
    "import arcpy\n",
    "from arcpy import env\n",
    "import geopandas as gpd\n",
    "from arcgis.features import GeoAccessor, GeoSeriesAccessor\n",
    "import os\n",
    "import pandas as pd\n",
    "import zipfile\n",
    "from urllib.request import urlopen\n",
    "import rasterio\n",
    "\n",
    "import sys\n",
    "sys.path.append(\"..\")\n",
    "\n",
    "from src.features.custom_functions import *\n",
    "\n",
    "%load_ext autoreload\n",
    "%autoreload 2\n",
    "\n",
    "pd.set_option('display.max_columns', None)\n"
   ]
  },
  {
   "cell_type": "code",
   "execution_count": 10,
   "metadata": {},
   "outputs": [],
   "source": [
    "#input datasets\n",
    "town_name = 'Revere'\n",
    "\n",
    "datasets_dir = r'K:\\DataServices\\datasets'\n",
    "\n",
    "\n",
    "gdb = r'K:\\DataServices\\Projects\\Current_Projects\\Climate_Change\\MVP_MMC_CoolRoofs_MVP\\ArcGIS\\CoolRoofs_Analysis.gdb'\n",
    "env.overwriteOutput = True\n",
    "#arcpy.env.outputCoordinateSystem = arcpy.SpatialReference(\"NAD 1983 StatePlane Massachusetts FIPS 2001 (Meters)\")\n",
    "rooftops_layer_name = town_name + '_footprints_with_info'\n",
    "rooftops_layer = gpd.read_file(gdb, layer=rooftops_layer_name)\n",
    "\n",
    "#municipalities\n",
    "munis_fp = os.path.join(datasets_dir, \"Boundaries\\Spatial\\mapc_towns_poly.shp\")\n",
    "munis = gpd.read_file(munis_fp)"
   ]
  },
  {
   "cell_type": "code",
   "execution_count": 79,
   "metadata": {},
   "outputs": [],
   "source": [
    "#get shapefile from a massgis link\n",
    "shapefile_excel = 'https://www.mass.gov/doc/massgis-parcel-data-download-links-table/download'\n",
    "#shapefile_lookup = pd.read_excel(shapefile_excel)\n",
    "#Actually maybe try that later, for now we can repurpose the 3A scripts and use data from the K drive\n",
    "\n",
    "#repurpose 3A script to get parcels with MAPC Land Parcel Database info attached\n",
    "muni_parcels = get_landuse_data(town_name)\n"
   ]
  },
  {
   "cell_type": "code",
   "execution_count": 39,
   "metadata": {},
   "outputs": [],
   "source": [
    "#muni_w_structures = parcel_process(muni_parcels, rooftops_layer)"
   ]
  },
  {
   "cell_type": "code",
   "execution_count": 106,
   "metadata": {},
   "outputs": [],
   "source": [
    "parcel_data = muni_parcels.copy()\n",
    "structures_data = rooftops_layer.clip(parcel_data)\n",
    "heat_fp = os.path.join(datasets_dir, 'Environment and Energy\\Land_Surface_Temperature\\Shapefile_LSTIndex\\LSTindex.tif')\n",
    "\n",
    "\n",
    "#reformat use code to match with real estate lookup codes\n",
    "land_use_lookup['USE_CODE'] = land_use_lookup['USE_CODE'].apply(lambda x: '{0:0>3}'.format(x))\n",
    "real_estate_lookup['use_code_3dg'] = real_estate_lookup['use_code_3dg'].str.replace('\"', '') \n",
    "\n",
    "## JOIN PARCELS, CODES, AND STRUCTURES ##\n",
    "\n",
    "#merge parcels with use descriptions to get use codes\n",
    "parcel_data = parcel_data.merge(land_use_lookup, left_on='LUC_Assign_M', right_on='USE_CODE', how='left').groupby(by='LOC_ID').agg('first').reset_index()\n",
    "\n",
    "#merge real estate lookup codes based on land use codes\n",
    "parcel_data = parcel_data.merge(real_estate_lookup, left_on='USE_CODE', right_on='use_code_3dg', how='left').groupby(by='LOC_ID').agg('first').reset_index()\n",
    "\n",
    "#get real estate typology descriptions based on real estate codes\n",
    "parcel_data = parcel_data.merge(real_estate_lookup_code, on='real_estate_type', how='left').groupby(by='LOC_ID').agg('first').reset_index()\n",
    "\n",
    "## HEAT FIELD ##\n",
    "#determine highest heat parcels based on 'rnk_heat' value. high heat in this case means being in the\n",
    "#top 20% of hottest census blocks\n",
    "\n",
    "mass_mainland_crs = \"EPSG:26986\"\n",
    "parcel_data = parcel_data.set_crs(mass_mainland_crs)\n",
    "structures_data = structures_data.to_crs(mass_mainland_crs)\n",
    "\n",
    "parcel_data = heat_score(parcel_data, heat_fp)\n",
    "\n",
    "\n",
    "heat_bnry_rule = [parcel_data['rnk_heat'] >= 0.8, \n",
    "                parcel_data['rnk_heat'] < 0.8]\n",
    "\n",
    "choices = ['in high heat area', \n",
    "            'not in high heat area']\n",
    "\n",
    "#create a new field based on whether or not a parcel is in a high heat area\n",
    "parcel_data['heat_mmc'] = np.select(heat_bnry_rule, choices, default=np.nan)\n",
    "\n",
    "#field for whether or not the parcel is publicly owned\n",
    "parcel_data = public_ownership(parcel_data)\n",
    "\n",
    "\n",
    "\n",
    "#reproject all to mass mainland\n",
    "mass_mainland_crs = \"EPSG:26986\"\n",
    "parcel_data = parcel_data.set_crs(mass_mainland_crs)\n",
    "structures_data = structures_data.to_crs(mass_mainland_crs)\n",
    "\n",
    "#spatially join structures to parcels, group by structure id to eliminate duplicates\n",
    "parcel_data = parcel_data.drop(['index_right'], axis=1)\n",
    "muni_structures_join_parcels = structures_data.sjoin(parcel_data, how='left').groupby(by='STRUCT_ID').agg('first').reset_index()\n"
   ]
  },
  {
   "cell_type": "code",
   "execution_count": 110,
   "metadata": {},
   "outputs": [],
   "source": [
    "#environmental justice (2020 boundaries, updated in 2023)\n",
    "datasets_dir = r'K:\\DataServices\\datasets'\n",
    "ej_2020_gdb = os.path.join(datasets_dir, 'Environment and Energy\\Environmental_Justice\\ej2020.gdb')\n",
    "ej_2020 = gpd.read_file(ej_2020_gdb, layer='EJ_POLY')\n",
    "ej_field = 'EJ_CRIT_DESC'\n",
    "\n"
   ]
  },
  {
   "cell_type": "code",
   "execution_count": null,
   "metadata": {},
   "outputs": [
    {
     "ename": "NameError",
     "evalue": "name 'ej2020' is not defined",
     "output_type": "error",
     "traceback": [
      "\u001b[1;31m---------------------------------------------------------------------------\u001b[0m",
      "\u001b[1;31mNameError\u001b[0m                                 Traceback (most recent call last)",
      "\u001b[1;32m~\\AppData\\Local\\Temp\\2\\ipykernel_17724\\4156850018.py\u001b[0m in \u001b[0;36m<cell line: 1>\u001b[1;34m()\u001b[0m\n\u001b[1;32m----> 1\u001b[1;33m \u001b[0mej2020\u001b[0m\u001b[1;33m.\u001b[0m\u001b[0mhead\u001b[0m\u001b[1;33m(\u001b[0m\u001b[1;33m)\u001b[0m\u001b[1;33m\u001b[0m\u001b[1;33m\u001b[0m\u001b[0m\n\u001b[0m",
      "\u001b[1;31mNameError\u001b[0m: name 'ej2020' is not defined"
     ]
    }
   ],
   "source": [
    "ej_2020.head()"
   ]
  },
  {
   "cell_type": "code",
   "execution_count": null,
   "metadata": {},
   "outputs": [],
   "source": [
    "muni_structures_join_ej = "
   ]
  }
 ],
 "metadata": {
  "kernelspec": {
   "display_name": "ArcPy",
   "language": "python",
   "name": "python3"
  },
  "language_info": {
   "codemirror_mode": {
    "name": "ipython",
    "version": 3
   },
   "file_extension": ".py",
   "mimetype": "text/x-python",
   "name": "python",
   "nbconvert_exporter": "python",
   "pygments_lexer": "ipython3",
   "version": "3.9.18"
  }
 },
 "nbformat": 4,
 "nbformat_minor": 2
}
