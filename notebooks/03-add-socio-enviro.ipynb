{
 "cells": [
  {
   "cell_type": "code",
   "execution_count": 18,
   "metadata": {},
   "outputs": [
    {
     "name": "stdout",
     "output_type": "stream",
     "text": [
      "The autoreload extension is already loaded. To reload it, use:\n",
      "  %reload_ext autoreload\n"
     ]
    }
   ],
   "source": [
    "#try this with arcpy and pandas and see if it's possible\n",
    "#might just be some spatial joins to contend with and then use pandas for everything else\n",
    "\n",
    "#import arcpy\n",
    "from arcpy import env\n",
    "import pandas as pd\n",
    "#import zipfile\n",
    "from arcgis.features import GeoAccessor, GeoSeriesAccessor\n",
    "from urllib.request import urlopen\n",
    "import rasterio\n",
    "import geopandas as gpd\n",
    "import os\n",
    "\n",
    "import sys\n",
    "sys.path.append(\"..\")\n",
    "from src.features.custom_functions import *\n",
    "\n",
    "%load_ext autoreload\n",
    "%autoreload 2\n",
    "\n",
    "pd.set_option('display.max_columns', None)\n"
   ]
  },
  {
   "cell_type": "code",
   "execution_count": null,
   "metadata": {},
   "outputs": [],
   "source": [
    "from src.data.make_dataset import heat_fp\n",
    "heat_score_mmc = get_heat_score_mmc(heat_index_fp=heat_fp)"
   ]
  },
  {
   "cell_type": "code",
   "execution_count": 2,
   "metadata": {},
   "outputs": [
    {
     "data": {
      "text/plain": [
       "16"
      ]
     },
     "execution_count": 2,
     "metadata": {},
     "output_type": "execute_result"
    }
   ],
   "source": [
    "from src.data.make_dataset import munis, mmc_munis\n",
    "\n",
    "mmc_gdf = munis.loc[munis['municipal'].isin(mmc_munis)]\n",
    "len(mmc_gdf)"
   ]
  },
  {
   "cell_type": "code",
   "execution_count": 3,
   "metadata": {},
   "outputs": [],
   "source": [
    "#input datasets\n",
    "town_name = 'Revere'\n",
    "\n",
    "env.overwriteOutput = True\n",
    "#arcpy.env.outputCoordinateSystem = arcpy.SpatialReference(\"NAD 1983 StatePlane Massachusetts FIPS 2001 (Meters)\")\n",
    "rooftops_layer_name = town_name + '_footprints_with_info'\n",
    "rooftops_layer = gpd.read_file(cool_roofs_gdb, layer=rooftops_layer_name)\n"
   ]
  },
  {
   "cell_type": "code",
   "execution_count": 19,
   "metadata": {},
   "outputs": [
    {
     "name": "stdout",
     "output_type": "stream",
     "text": [
      "1: 2024-04-25 10:44:45.868064\n"
     ]
    },
    {
     "name": "stderr",
     "output_type": "stream",
     "text": [
      "c:\\Users\\rbowers\\.conda\\envs\\ArcPy\\lib\\site-packages\\openpyxl\\worksheet\\header_footer.py:48: UserWarning: Cannot parse header or footer so it will be ignored\n",
      "  warn(\"\"\"Cannot parse header or footer so it will be ignored\"\"\")\n"
     ]
    },
    {
     "name": "stdout",
     "output_type": "stream",
     "text": [
      "2: 2024-04-25 10:45:57.899414\n",
      "3: 2024-04-25 10:45:58.249990\n",
      "4: 2024-04-25 10:45:58.603343\n",
      "5: 2024-04-25 10:45:58.693371\n",
      "ej starts at 2024-04-25 10:46:04.950248\n",
      "ej ends at 2024-04-25 10:46:06.691142\n",
      "structures start at 2024-04-25 10:46:06.691142\n",
      "structures end at 2024-04-25 10:49:50.459051\n"
     ]
    }
   ],
   "source": [
    "#get heat score for whole mmc region \n",
    "town_structures_w_info = cool_roof_process(town_name=town_name, \n",
    "                                            rooftops_layer=rooftops_layer,\n",
    "                                            heat_blocks_layer=heat_score_mmc)"
   ]
  },
  {
   "cell_type": "code",
   "execution_count": 21,
   "metadata": {},
   "outputs": [
    {
     "data": {
      "text/html": [
       "<div>\n",
       "<style scoped>\n",
       "    .dataframe tbody tr th:only-of-type {\n",
       "        vertical-align: middle;\n",
       "    }\n",
       "\n",
       "    .dataframe tbody tr th {\n",
       "        vertical-align: top;\n",
       "    }\n",
       "\n",
       "    .dataframe thead th {\n",
       "        text-align: right;\n",
       "    }\n",
       "</style>\n",
       "<table border=\"1\" class=\"dataframe\">\n",
       "  <thead>\n",
       "    <tr style=\"text-align: right;\">\n",
       "      <th></th>\n",
       "      <th>STRUCT_ID</th>\n",
       "      <th>SOURCEDATE</th>\n",
       "      <th>SLOPE_1</th>\n",
       "      <th>MAJORITY</th>\n",
       "      <th>MAJORITY_PERCENT</th>\n",
       "      <th>flat_roof</th>\n",
       "      <th>Int_Maj</th>\n",
       "      <th>Int_MajP</th>\n",
       "      <th>geometry</th>\n",
       "      <th>index_right</th>\n",
       "      <th>LOC_ID</th>\n",
       "      <th>SITE_ADDR_M</th>\n",
       "      <th>CITY</th>\n",
       "      <th>OWNER1</th>\n",
       "      <th>TOWN_ID</th>\n",
       "      <th>BLDG_VAL</th>\n",
       "      <th>LOT_SIZE</th>\n",
       "      <th>L3_Description_M</th>\n",
       "      <th>LUC_Assign_M</th>\n",
       "      <th>YEAR_BUILT</th>\n",
       "      <th>STYLE</th>\n",
       "      <th>imputed_units</th>\n",
       "      <th>FAR</th>\n",
       "      <th>BLDGV_PSF</th>\n",
       "      <th>BLDLND_RAT</th>\n",
       "      <th>USE_CODE</th>\n",
       "      <th>USE_DESC</th>\n",
       "      <th>use_code_3dg</th>\n",
       "      <th>real_estate_type</th>\n",
       "      <th>description</th>\n",
       "      <th>lst_mean</th>\n",
       "      <th>rnk_heat_mmc</th>\n",
       "      <th>rnk_ht_muni</th>\n",
       "      <th>heat_muni</th>\n",
       "      <th>heat_mmc</th>\n",
       "      <th>pblc_use</th>\n",
       "      <th>pblc_owner</th>\n",
       "      <th>muni_owner</th>\n",
       "      <th>pblc</th>\n",
       "      <th>par_typ</th>\n",
       "      <th>EJ</th>\n",
       "      <th>EJ_CRITERIA_COUNT</th>\n",
       "      <th>EJ_CRIT_DESC</th>\n",
       "    </tr>\n",
       "  </thead>\n",
       "  <tbody>\n",
       "    <tr>\n",
       "      <th>0</th>\n",
       "      <td>238426_907201</td>\n",
       "      <td>20110000.0</td>\n",
       "      <td>22</td>\n",
       "      <td>7</td>\n",
       "      <td>43.859699</td>\n",
       "      <td>0.0</td>\n",
       "      <td>7</td>\n",
       "      <td>53.2164</td>\n",
       "      <td>POLYGON ((238427.657 907196.957, 238430.295 90...</td>\n",
       "      <td>0</td>\n",
       "      <td>F_782256_2976368</td>\n",
       "      <td>68 HASKELL AVE</td>\n",
       "      <td>Revere</td>\n",
       "      <td>35 HASKELL AVENUE REALTY TRUST</td>\n",
       "      <td>248</td>\n",
       "      <td>58900</td>\n",
       "      <td>3484.8</td>\n",
       "      <td>Single Family</td>\n",
       "      <td>101</td>\n",
       "      <td>1910.0</td>\n",
       "      <td>OLD STYLE</td>\n",
       "      <td>1</td>\n",
       "      <td>1.484687</td>\n",
       "      <td>31.531049</td>\n",
       "      <td>0.790604</td>\n",
       "      <td>101</td>\n",
       "      <td>Single Family Residential</td>\n",
       "      <td>101</td>\n",
       "      <td>1.0</td>\n",
       "      <td>Single Family properties</td>\n",
       "      <td>0.586779</td>\n",
       "      <td>0.797327</td>\n",
       "      <td>0.820946</td>\n",
       "      <td>in high heat area (muni)</td>\n",
       "      <td>not in high heat area (mmc)</td>\n",
       "      <td>0</td>\n",
       "      <td>0</td>\n",
       "      <td>0</td>\n",
       "      <td>0.0</td>\n",
       "      <td>Private parcel</td>\n",
       "      <td>Yes</td>\n",
       "      <td>3.0</td>\n",
       "      <td>Minority, income and English isolation</td>\n",
       "    </tr>\n",
       "    <tr>\n",
       "      <th>1</th>\n",
       "      <td>238432_907188</td>\n",
       "      <td>20110000.0</td>\n",
       "      <td>3</td>\n",
       "      <td>7</td>\n",
       "      <td>75.000000</td>\n",
       "      <td>0.0</td>\n",
       "      <td>8</td>\n",
       "      <td>45.3125</td>\n",
       "      <td>POLYGON ((238428.083 907183.008, 238425.702 90...</td>\n",
       "      <td>2</td>\n",
       "      <td>F_782259_2976325</td>\n",
       "      <td>66 HASKELL AVE</td>\n",
       "      <td>Revere</td>\n",
       "      <td>NOVIDA   CARMELA M</td>\n",
       "      <td>248</td>\n",
       "      <td>225700</td>\n",
       "      <td>3484.8</td>\n",
       "      <td>Single Family</td>\n",
       "      <td>101</td>\n",
       "      <td>1930.0</td>\n",
       "      <td>OLD STYLE</td>\n",
       "      <td>1</td>\n",
       "      <td>0.627970</td>\n",
       "      <td>145.144695</td>\n",
       "      <td>1.472277</td>\n",
       "      <td>101</td>\n",
       "      <td>Single Family Residential</td>\n",
       "      <td>101</td>\n",
       "      <td>1.0</td>\n",
       "      <td>Single Family properties</td>\n",
       "      <td>0.586779</td>\n",
       "      <td>0.797327</td>\n",
       "      <td>0.820946</td>\n",
       "      <td>in high heat area (muni)</td>\n",
       "      <td>not in high heat area (mmc)</td>\n",
       "      <td>0</td>\n",
       "      <td>0</td>\n",
       "      <td>0</td>\n",
       "      <td>0.0</td>\n",
       "      <td>Private parcel</td>\n",
       "      <td>Yes</td>\n",
       "      <td>3.0</td>\n",
       "      <td>Minority, income and English isolation</td>\n",
       "    </tr>\n",
       "  </tbody>\n",
       "</table>\n",
       "</div>"
      ],
      "text/plain": [
       "       STRUCT_ID  SOURCEDATE  SLOPE_1  MAJORITY  MAJORITY_PERCENT  flat_roof  \\\n",
       "0  238426_907201  20110000.0       22         7         43.859699        0.0   \n",
       "1  238432_907188  20110000.0        3         7         75.000000        0.0   \n",
       "\n",
       "   Int_Maj  Int_MajP                                           geometry  \\\n",
       "0        7   53.2164  POLYGON ((238427.657 907196.957, 238430.295 90...   \n",
       "1        8   45.3125  POLYGON ((238428.083 907183.008, 238425.702 90...   \n",
       "\n",
       "   index_right            LOC_ID     SITE_ADDR_M    CITY  \\\n",
       "0            0  F_782256_2976368  68 HASKELL AVE  Revere   \n",
       "1            2  F_782259_2976325  66 HASKELL AVE  Revere   \n",
       "\n",
       "                           OWNER1  TOWN_ID  BLDG_VAL  LOT_SIZE  \\\n",
       "0  35 HASKELL AVENUE REALTY TRUST      248     58900    3484.8   \n",
       "1              NOVIDA   CARMELA M      248    225700    3484.8   \n",
       "\n",
       "  L3_Description_M LUC_Assign_M  YEAR_BUILT      STYLE  imputed_units  \\\n",
       "0    Single Family          101      1910.0  OLD STYLE              1   \n",
       "1    Single Family          101      1930.0  OLD STYLE              1   \n",
       "\n",
       "        FAR   BLDGV_PSF  BLDLND_RAT USE_CODE                   USE_DESC  \\\n",
       "0  1.484687   31.531049    0.790604      101  Single Family Residential   \n",
       "1  0.627970  145.144695    1.472277      101  Single Family Residential   \n",
       "\n",
       "  use_code_3dg  real_estate_type                description  lst_mean  \\\n",
       "0          101               1.0  Single Family properties   0.586779   \n",
       "1          101               1.0  Single Family properties   0.586779   \n",
       "\n",
       "   rnk_heat_mmc  rnk_ht_muni                 heat_muni  \\\n",
       "0      0.797327     0.820946  in high heat area (muni)   \n",
       "1      0.797327     0.820946  in high heat area (muni)   \n",
       "\n",
       "                      heat_mmc  pblc_use  pblc_owner  muni_owner  pblc  \\\n",
       "0  not in high heat area (mmc)         0           0           0   0.0   \n",
       "1  not in high heat area (mmc)         0           0           0   0.0   \n",
       "\n",
       "          par_typ   EJ  EJ_CRITERIA_COUNT  \\\n",
       "0  Private parcel  Yes                3.0   \n",
       "1  Private parcel  Yes                3.0   \n",
       "\n",
       "                             EJ_CRIT_DESC  \n",
       "0  Minority, income and English isolation  \n",
       "1  Minority, income and English isolation  "
      ]
     },
     "execution_count": 21,
     "metadata": {},
     "output_type": "execute_result"
    }
   ],
   "source": [
    "town_structures_w_info.head(2)"
   ]
  },
  {
   "cell_type": "code",
   "execution_count": 22,
   "metadata": {},
   "outputs": [
    {
     "name": "stderr",
     "output_type": "stream",
     "text": [
      "C:\\Users\\rbowers\\AppData\\Local\\Temp\\3\\ipykernel_13284\\3914453385.py:3: UserWarning: Column names longer than 10 characters will be truncated when saved to ESRI Shapefile.\n",
      "  town_structures_w_info.to_file(export)\n"
     ]
    }
   ],
   "source": [
    "data_folder = r'K:\\DataServices\\Projects\\Current_Projects\\Climate_Change\\MVP_MMC_CoolRoofs_MVP\\Data\\Intermediate'\n",
    "export = os.path.join(data_folder, (town_name + '_cool_roofs.shp'))\n",
    "town_structures_w_info.to_file(export)"
   ]
  }
 ],
 "metadata": {
  "kernelspec": {
   "display_name": "ArcPy",
   "language": "python",
   "name": "python3"
  },
  "language_info": {
   "codemirror_mode": {
    "name": "ipython",
    "version": 3
   },
   "file_extension": ".py",
   "mimetype": "text/x-python",
   "name": "python",
   "nbconvert_exporter": "python",
   "pygments_lexer": "ipython3",
   "version": "3.9.18"
  }
 },
 "nbformat": 4,
 "nbformat_minor": 2
}
