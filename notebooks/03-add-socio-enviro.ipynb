{
 "cells": [
  {
   "cell_type": "code",
   "execution_count": null,
   "metadata": {},
   "outputs": [
    {
     "name": "stdout",
     "output_type": "stream",
     "text": [
      "The autoreload extension is already loaded. To reload it, use:\n",
      "  %reload_ext autoreload\n"
     ]
    }
   ],
   "source": [
    "#try this with arcpy and pandas and see if it's possible\n",
    "#might just be some spatial joins to contend with and then use pandas for everything else\n",
    "\n",
    "#import arcpy\n",
    "from arcpy import env\n",
    "import geopandas as gpd\n",
    "from arcgis.features import GeoAccessor, GeoSeriesAccessor\n",
    "import os\n",
    "import pandas as pd\n",
    "#import zipfile\n",
    "from urllib.request import urlopen\n",
    "import rasterio\n",
    "\n",
    "import sys\n",
    "sys.path.append(\"..\")\n",
    "\n",
    "from src.features.custom_functions import *\n",
    "\n",
    "%load_ext autoreload\n",
    "%autoreload 2\n",
    "\n",
    "pd.set_option('display.max_columns', None)\n"
   ]
  },
  {
   "cell_type": "code",
   "execution_count": 10,
   "metadata": {},
   "outputs": [],
   "source": [
    "#input datasets\n",
    "town_name = 'Revere'\n",
    "\n",
    "datasets_dir = r'K:\\DataServices\\datasets'\n",
    "\n",
    "\n",
    "gdb = r'K:\\DataServices\\Projects\\Current_Projects\\Climate_Change\\MVP_MMC_CoolRoofs_MVP\\ArcGIS\\CoolRoofs_Analysis.gdb'\n",
    "env.overwriteOutput = True\n",
    "#arcpy.env.outputCoordinateSystem = arcpy.SpatialReference(\"NAD 1983 StatePlane Massachusetts FIPS 2001 (Meters)\")\n",
    "rooftops_layer_name = town_name + '_footprints_with_info'\n",
    "rooftops_layer = gpd.read_file(gdb, layer=rooftops_layer_name)\n",
    "\n"
   ]
  },
  {
   "cell_type": "code",
   "execution_count": 79,
   "metadata": {},
   "outputs": [],
   "source": [
    "#get shapefile from a massgis link\n",
    "shapefile_excel = 'https://www.mass.gov/doc/massgis-parcel-data-download-links-table/download'\n",
    "#shapefile_lookup = pd.read_excel(shapefile_excel)\n",
    "#Actually maybe try that later, for now we can repurpose the 3A scripts and use data from the K drive\n",
    "\n"
   ]
  },
  {
   "cell_type": "code",
   "execution_count": 106,
   "metadata": {},
   "outputs": [],
   "source": [
    "town_structures_w_info = cool_roof_parcel_process(town_name=town_name, structures_data=rooftops_layer)"
   ]
  }
 ],
 "metadata": {
  "kernelspec": {
   "display_name": "ArcPy",
   "language": "python",
   "name": "python3"
  },
  "language_info": {
   "codemirror_mode": {
    "name": "ipython",
    "version": 3
   },
   "file_extension": ".py",
   "mimetype": "text/x-python",
   "name": "python",
   "nbconvert_exporter": "python",
   "pygments_lexer": "ipython3",
   "version": "3.9.18"
  }
 },
 "nbformat": 4,
 "nbformat_minor": 2
}
