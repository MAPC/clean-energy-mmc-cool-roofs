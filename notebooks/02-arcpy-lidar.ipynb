{
 "cells": [
  {
   "cell_type": "code",
   "execution_count": 1,
   "metadata": {},
   "outputs": [],
   "source": [
    "#arcpy to process LIDAR data    \n",
    "\n",
    "import arcpy\n",
    "from arcpy import env\n"
   ]
  },
  {
   "cell_type": "code",
   "execution_count": 2,
   "metadata": {},
   "outputs": [],
   "source": [
    "#define variables\n",
    "\n",
    "#town name\n",
    "town_name = 'Revere'\n",
    "\n",
    "#project geodatabase\n",
    "env.workspace = r'K:\\DataServices\\Projects\\Current_Projects\\Climate_Change\\MVP_MMC_CoolRoofs_MVP\\ArcGIS\\CoolRoofs_Analysis.gdb'\n",
    "\n",
    "env.overwriteOutput = True\n",
    "\n",
    "#folder that contains las data\n",
    "las_folder = r\"K:\\DataServices\\Datasets\\MassGIS\\LiDAR\\Revere pilot\\LAS Data\"\n",
    "\n",
    "#dataset file path\n",
    "las_dataset = r\"K:\\DataServices\\Datasets\\MassGIS\\LiDAR\\Revere pilot\\LAS Data\\Revere pilot_LasDataset.lasd\"\n"
   ]
  },
  {
   "cell_type": "code",
   "execution_count": null,
   "metadata": {},
   "outputs": [],
   "source": [
    "## CREATE LAS DATASET ##\n",
    "\n",
    "point_selection_method = 'CLOSEST_TO_CENTER'\n",
    "\n",
    "\n",
    "if arcpy.Exists (las_dataset): \n",
    "    arcpy.Delete_management (las_dataset)\n",
    "\n",
    "arcpy.CreateLasDataset_management(input=las_folder,\n",
    "                                  out_las_dataset=las_dataset,\n",
    "                                  compute_stats='COMPUTE_STATS')\n",
    "                                  "
   ]
  },
  {
   "cell_type": "code",
   "execution_count": 13,
   "metadata": {},
   "outputs": [
    {
     "data": {
      "text/html": [
       "<div class='gpresult'><h2>Messages</h2><div id='messages' data-messages='[\"Start Time: Wednesday, February 28, 2024 2:45:35 PM\",\"Succeeded at Wednesday, February 28, 2024 2:45:46 PM (Elapsed Time: 11.18 seconds)\"]' data-show='true'><div id = 'default' /></div></div>"
      ],
      "text/plain": [
       "<Result 'K:\\\\DataServices\\\\Projects\\\\Current_Projects\\\\Climate_Change\\\\MVP_MMC_CoolRoofs_MVP\\\\ArcGIS\\\\CoolRoofs_Analysis.gdb\\\\Revere_Buildings_raw'>"
      ]
     },
     "execution_count": 13,
     "metadata": {},
     "output_type": "execute_result"
    }
   ],
   "source": [
    "# BUILDING EXTRACTION # \n",
    "\n",
    "\n",
    "building_class = 6\n",
    "building_layer = town_name + '_building_layer'\n",
    "building_raster = town_name + '_Buildings_raster'\n",
    "building_polygon_raw = town_name + '_Buildings_raw'\n",
    "building_polygon_clean = town_name + '_Buildings_clean'\n",
    "building_polygon_footprints = town_name + '_Building_footprints'\n",
    "sampling_method = 'PREDOMINANT_CLASS'\n",
    "sampling_type = 'CELLSIZE'\n",
    "sampling_value = 0.5\n",
    "where_clause = ' \"Shape_Area\" > 13.9355'\n",
    "\n",
    "'''\n",
    "inputs:\n",
    "outputs:\n",
    "'''\n",
    "\n",
    "#make a las layer for building class only\n",
    "lasd_layer = arcpy.management.MakeLasDatasetLayer(in_las_dataset=las_dataset, \n",
    "                                                out_layer = building_layer, \n",
    "                                                class_code=[6])\n",
    "\n",
    "#now extract the raster\n",
    "arcpy.management.LasPointStatsAsRaster(in_las_dataset=\"building_layer\", \n",
    "                                        out_raster=building_raster, \n",
    "                                        method=sampling_method, \n",
    "                                        sampling_type=sampling_type, \n",
    "                                        sampling_value=sampling_value)\n",
    "\n",
    "#raster to polygon\n",
    "arcpy.conversion.RasterToPolygon(in_raster=building_raster, \n",
    "                                out_polygon_features=building_polygon_raw, \n",
    "                                raster_field='Value')\n",
    "\n",
    "\n",
    "#only do ones larger than 150 square feet\n",
    "selection = arcpy.management.SelectLayerByAttribute(in_layer_or_view=building_polygon_raw, \n",
    "                                                    where_clause=where_clause)\n",
    "\n",
    "\n",
    "\n",
    "#eliminate noisy polygons\n",
    "arcpy.management.EliminatePolygonPart(in_features=selection, \n",
    "                                        out_feature_class=building_polygon_clean, \n",
    "                                        condition='AREA',\n",
    "                                        part_area=50)\n",
    "\n",
    "\n",
    "#regularize building footprint\n",
    "arcpy.ddd.RegularizeBuildingFootprint(in_feature=building_polygon_clean, \n",
    "                                    out_feature_class=building_polygon_footprints, \n",
    "                                    method='RIGHT_ANGLES', \n",
    "                                    tolerance=1, \n",
    "                                    densification=1, \n",
    "                                    precision=0.15, \n",
    "                                    )\n",
    "\n",
    "\n"
   ]
  },
  {
   "cell_type": "code",
   "execution_count": 15,
   "metadata": {},
   "outputs": [
    {
     "ename": "TypeError",
     "evalue": "RegularizeBuildingFootprint() got an unexpected keyword argument 'in_feature'",
     "output_type": "error",
     "traceback": [
      "\u001b[1;31m---------------------------------------------------------------------------\u001b[0m",
      "\u001b[1;31mTypeError\u001b[0m                                 Traceback (most recent call last)",
      "\u001b[1;32m~\\AppData\\Local\\Temp\\2\\ipykernel_15636\\3429307993.py\u001b[0m in \u001b[0;36m<cell line: 25>\u001b[1;34m()\u001b[0m\n\u001b[0;32m     23\u001b[0m \u001b[1;33m\u001b[0m\u001b[0m\n\u001b[0;32m     24\u001b[0m \u001b[1;31m#regularize building footprint\u001b[0m\u001b[1;33m\u001b[0m\u001b[1;33m\u001b[0m\u001b[0m\n\u001b[1;32m---> 25\u001b[1;33m arcpy.ddd.RegularizeBuildingFootprint(in_feature=building_polygon_clean, \n\u001b[0m\u001b[0;32m     26\u001b[0m                                     \u001b[0mout_feature_class\u001b[0m\u001b[1;33m=\u001b[0m\u001b[0mbuilding_polygon_footprints\u001b[0m\u001b[1;33m,\u001b[0m\u001b[1;33m\u001b[0m\u001b[1;33m\u001b[0m\u001b[0m\n\u001b[0;32m     27\u001b[0m                                     \u001b[0mmethod\u001b[0m\u001b[1;33m=\u001b[0m\u001b[1;34m'RIGHT_ANGLES'\u001b[0m\u001b[1;33m,\u001b[0m\u001b[1;33m\u001b[0m\u001b[1;33m\u001b[0m\u001b[0m\n",
      "\u001b[1;31mTypeError\u001b[0m: RegularizeBuildingFootprint() got an unexpected keyword argument 'in_feature'"
     ]
    }
   ],
   "source": [
    "building_class = 6\n",
    "building_layer = town_name + '_building_layer'\n",
    "building_raster = town_name + '_Buildings_raster'\n",
    "building_polygon_raw = town_name + '_Buildings_raw'\n",
    "building_polygon_clean = town_name + '_Buildings_clean'\n",
    "building_polygon_footprints = town_name + '_Building_footprints'\n",
    "sampling_method = 'PREDOMINANT_CLASS'\n",
    "sampling_type = 'CELLSIZE'\n",
    "sampling_value = 0.5\n",
    "where_clause = ' \"Shape_Area\" > 13.9355'\n",
    "\n",
    "#only do ones larger than 150 square feet\n",
    "selection = arcpy.management.SelectLayerByAttribute(in_layer_or_view=building_polygon_raw, \n",
    "                                                    where_clause=where_clause)\n",
    "\n",
    "\n",
    "\n",
    "#eliminate noisy polygons\n",
    "arcpy.management.EliminatePolygonPart(in_features=selection, \n",
    "                                        out_feature_class=building_polygon_clean, \n",
    "                                        condition='AREA',\n",
    "                                        part_area=50)\n",
    "\n",
    "#regularize building footprint\n",
    "arcpy.ddd.RegularizeBuildingFootprint(in_features=building_polygon_clean, \n",
    "                                    out_feature_class=building_polygon_footprints, \n",
    "                                    method='RIGHT_ANGLES', \n",
    "                                    tolerance=1, \n",
    "                                    densification=1, \n",
    "                                    precision=0.15, \n",
    "                                    )"
   ]
  },
  {
   "cell_type": "markdown",
   "metadata": {},
   "source": [
    "## Roof Extraction\n",
    "\n",
    "Drawing from [this tutorial](https://doc.arcgis.com/en/imagery/workflows/best-practices/las-dataset-to-create-dtm-and-dsm-rasters.htm).\n",
    "- Also [this video](https://www.youtube.com/watch?v=2pThNwhJ418&t=727s)\n",
    "\n",
    "Steps:\n",
    "- Generate a Digital Terrain Model (DTM) (LAS Dataset to Raster)\n",
    "- Generate a Digital Surface Model (DSM) (LAS Dataset to Raster)\n",
    "- Generate the Normalized Digital Surface Model (nDSM) (raster calculator)\n"
   ]
  },
  {
   "cell_type": "code",
   "execution_count": 8,
   "metadata": {},
   "outputs": [
    {
     "data": {
      "text/html": [
       "<div class='gpresult'><h2>Messages</h2><div id='messages' data-messages='[\"Start Time: Wednesday, February 28, 2024 6:42:08 PM\",\"Succeeded at Wednesday, February 28, 2024 6:42:49 PM (Elapsed Time: 40.75 seconds)\"]' data-show='true'><div id = 'default' /></div></div>"
      ],
      "text/plain": [
       "<Result 'K:\\\\DataServices\\\\Projects\\\\Current_Projects\\\\Climate_Change\\\\MVP_MMC_CoolRoofs_MVP\\\\ArcGIS\\\\CoolRoofs_Analysis.gdb\\\\Revere_building_dsm_surface'>"
      ]
     },
     "execution_count": 8,
     "metadata": {},
     "output_type": "execute_result"
    }
   ],
   "source": [
    "## DIGITAL TERRAIN MODEL (DTM) ##\n",
    "\n",
    "ground_layer = town_name + '_ground_layer'\n",
    "ground_code = [1]\n",
    "ground_return_values = ['LAST', 'LAST_OF_MANY']\n",
    "out_dtm_raster = town_name + '_dtm_surface'\n",
    "\n",
    "\n",
    "dtm_layer = arcpy.management.MakeLasDatasetLayer(in_las_dataset=las_dataset, \n",
    "                                                out_layer = ground_layer, \n",
    "                                                class_code = ground_code,\n",
    "                                                return_values = ground_return_values)\n",
    "\n",
    "\n",
    "arcpy.conversion.LasDatasetToRaster(in_las_dataset=dtm_layer, \n",
    "                                    out_raster=out_dtm_raster, \n",
    "                                    value_field='ELEVATION', \n",
    "                                    interpolation_type = 'BINNING AVERAGE LINEAR',\n",
    "                                    sampling_type='CELLSIZE', \n",
    "                                    sampling_value=1.2)\n",
    "\n",
    "\n",
    "## DIGITAL SURFACE MODEL (DSM) ##\n",
    "surface_layer = town_name + '_surface_layer'\n",
    "surface_return_values = [1, 'FIRST_OF_MANY']\n",
    "out_dsm_raster = town_name + '_building_dsm_surface'\n",
    "building_code = [6]\n",
    "\n",
    "\n",
    "dsm_layer = arcpy.management.MakeLasDatasetLayer(in_las_dataset=las_dataset, \n",
    "                                                out_layer = surface_layer, \n",
    "                                                class_code = building_code,\n",
    "                                                return_values = surface_return_values)\n",
    "\n",
    "\n",
    "arcpy.conversion.LasDatasetToRaster(in_las_dataset=dsm_layer, \n",
    "                                    out_raster=out_dsm_raster, \n",
    "                                    value_field='ELEVATION',\n",
    "                                    interpolation_type = 'BINNING MAXIMUM NONE',\n",
    "                                    sampling_type='CELLSIZE', \n",
    "                                    sampling_value=1.2)\n",
    "\n",
    "\n"
   ]
  },
  {
   "cell_type": "code",
   "execution_count": 10,
   "metadata": {},
   "outputs": [],
   "source": [
    "\n",
    "## NORMALIZED DIGITAL SURFACE MODEL (NDSM) ##\n",
    "from arcpy.sa import *\n",
    "\n",
    "# Set local variables\n",
    "in_raster1 = out_dsm_raster\n",
    "in_raster2 = out_dtm_raster\n",
    "out_raster = town_name + '_ndsm_buildings'\n",
    "\n",
    "# Excuate RasterCalculator(Minus) function\n",
    "out_rc_minus_raster = RasterCalculator(rasters= [in_raster1, in_raster2], \n",
    "                                    input_names = [\"x\", \"y\"],\n",
    "                                    expression=\"x-y\")\n",
    "\n",
    "# Save the output\n",
    "out_rc_minus_raster.save(out_raster)"
   ]
  },
  {
   "cell_type": "code",
   "execution_count": null,
   "metadata": {},
   "outputs": [],
   "source": [
    "## NDSM ##"
   ]
  },
  {
   "cell_type": "code",
   "execution_count": null,
   "metadata": {},
   "outputs": [],
   "source": [
    "arcpy.management.BuildLasDatasetPyramid(in_las_dataset=las_dataset,\n",
    "                                 point_selection_method=point_selection_method)"
   ]
  }
 ],
 "metadata": {
  "kernelspec": {
   "display_name": "envs",
   "language": "python",
   "name": "python3"
  },
  "language_info": {
   "codemirror_mode": {
    "name": "ipython",
    "version": 3
   },
   "file_extension": ".py",
   "mimetype": "text/x-python",
   "name": "python",
   "nbconvert_exporter": "python",
   "pygments_lexer": "ipython3",
   "version": "3.9.18"
  }
 },
 "nbformat": 4,
 "nbformat_minor": 2
}
