{
 "cells": [
  {
   "cell_type": "code",
   "execution_count": 1,
   "metadata": {},
   "outputs": [],
   "source": [
    "#arcpy to process LIDAR data    \n",
    "%load_ext autoreload\n",
    "%autoreload 2\n",
    "\n",
    "from arcpy import env\n",
    "import pandas as pd\n",
    "from arcgis.features import GeoAccessor, GeoSeriesAccessor\n",
    "from arcpy.sa import *\n",
    "\n",
    "import sys\n",
    "sys.path.append(\"..\")\n",
    "\n",
    "from src.features.create_rasters import *\n",
    "from src.features.arcpy_scripts import *\n",
    "from src.features.custom_functions import * \n"
   ]
  },
  {
   "cell_type": "code",
   "execution_count": null,
   "metadata": {},
   "outputs": [],
   "source": [
    "#define variables - not sure if this is necessary? probably not?\n",
    "\n",
    "#project geodatabase\n",
    "#env.workspace = r'C:\\Users\\rbowers\\Desktop\\cool_roof_analysis_offnetwork.gdb'\n",
    "#env.overwriteOutput = True\n",
    "\n",
    "#dataset file path\n",
    "#las_dataset = r'I:\\Imagery\\MassGIS_LAS_files\\MMC_lasdataset.lasd'\n",
    "\n",
    "#arcpy.env.outputCoordinateSystem = arcpy.SpatialReference(\"NAD 1983 StatePlane Massachusetts FIPS 2001 (Meters)\")\n"
   ]
  },
  {
   "cell_type": "markdown",
   "metadata": {},
   "source": [
    "### Run these only if need be \n",
    "\n",
    "- las_dataset was last created for all MMC on 5/1/2024\n",
    "- heat_score_mmc was last created for all MMC on 5/1/2024"
   ]
  },
  {
   "cell_type": "code",
   "execution_count": null,
   "metadata": {},
   "outputs": [],
   "source": [
    "#only run this if need be [last run on all MMC: 5/1/2024]\n",
    "from src.data.make_dataset import heat_fp, las_folder\n",
    "\n",
    "\n",
    "#las_dataset = create_las_dataset(las_folder=las_folder, las_dataset=las_dataset)\n",
    "\n",
    "heat_score_mmc = get_heat_score_mmc(heat_index_fp=heat_fp)"
   ]
  },
  {
   "cell_type": "markdown",
   "metadata": {},
   "source": [
    "### First create slope and intensity rasters for each municipality\n",
    "\n",
    "Result in geodatabase should be just a slope and intensity raster for each muni - note, as of 5/22, this can be skipped (unless you need to rerun any of them)"
   ]
  },
  {
   "cell_type": "code",
   "execution_count": null,
   "metadata": {},
   "outputs": [],
   "source": [
    "mmc_town_names = ['Arlington', 'Boston', 'Braintree', 'Brookline', 'Cambridge', 'Chelsea', \n",
    "             'Everett', 'Malden', 'Medford', 'Melrose', 'Newton', 'Quincy', 'Revere', \n",
    "             'Somerville', 'Watertown', 'Winthrop']\n",
    "\n",
    "\n",
    "#note that Revere was removed from this list since it was the test one \n",
    "\n",
    "from datetime import datetime\n",
    "\n",
    "for town_name in mmc_town_names:\n",
    "    \n",
    "    print(town_name + ' processing starting at ' + str(datetime.now()))\n",
    "\n",
    "\n",
    "    las_dataset = create_las_dataset(town_name = town_name, \n",
    "                                     las_folder=las_folder)\n",
    "    \n",
    "\n",
    "    ndsm_raster = create_ndsm_raster(town_name=town_name,\n",
    "                                    las_dataset=las_dataset)\n",
    "    \n",
    "\n",
    "    slope_raster = create_slope_raster(town_name=town_name,\n",
    "                                        ndsm_raster=ndsm_raster)\n",
    "    \n",
    "    #removing aspect for now, may include later to refine the flat roof analysis\n",
    "    #aspect_raster = create_aspect_raster(town_name=town_name,\n",
    "    #                                     ndsm_raster=ndsm_raster)\n",
    "\n",
    "\n",
    "    intensity_raster = create_intensity_raster(town_name=town_name, \n",
    "                                                las_dataset=las_dataset)\n"
   ]
  },
  {
   "cell_type": "markdown",
   "metadata": {},
   "source": [
    "### Then create enriched roofprint polygon datasets"
   ]
  },
  {
   "cell_type": "code",
   "execution_count": 2,
   "metadata": {},
   "outputs": [
    {
     "name": "stdout",
     "output_type": "stream",
     "text": [
      "Arlington processing starting at 2024-05-22 12:48:57.386050\n",
      "Braintree processing starting at 2024-05-22 12:49:09.361271\n",
      "Brookline processing starting at 2024-05-22 12:49:09.645385\n",
      "Cambridge processing starting at 2024-05-22 12:49:09.988957\n",
      "Chelsea processing starting at 2024-05-22 12:49:10.273353\n",
      "Everett processing starting at 2024-05-22 12:49:10.538341\n",
      "Malden processing starting at 2024-05-22 12:49:10.819359\n",
      "Medford processing starting at 2024-05-22 12:49:11.099107\n",
      "Melrose processing starting at 2024-05-22 12:49:11.390372\n",
      "Newton processing starting at 2024-05-22 12:49:11.659966\n",
      "Quincy processing starting at 2024-05-22 12:49:11.943078\n",
      "Revere processing starting at 2024-05-22 12:49:12.246517\n",
      "Somerville processing starting at 2024-05-22 12:49:12.530084\n",
      "Watertown processing starting at 2024-05-22 12:49:12.800270\n",
      "Winthrop processing starting at 2024-05-22 12:49:13.123215\n",
      "get town boundary\n",
      "town footprints\n",
      "extract by mask\n",
      "reclassify\n",
      "joining\n",
      "intensity\n",
      "extract by mask, intensity\n",
      "reclassify, intensity\n"
     ]
    },
    {
     "name": "stderr",
     "output_type": "stream",
     "text": [
      "c:\\Users\\rbowers\\.conda\\envs\\ArcPy\\lib\\site-packages\\openpyxl\\worksheet\\header_footer.py:48: UserWarning: Cannot parse header or footer so it will be ignored\n",
      "  warn(\"\"\"Cannot parse header or footer so it will be ignored\"\"\")\n",
      "c:\\Users\\rbowers\\scripting-projects\\clean-energy-mmc-cool-roofs\\notebooks\\..\\src\\features\\custom_functions.py:695: UserWarning: Column names longer than 10 characters will be truncated when saved to ESRI Shapefile.\n",
      "  muni_structures_join_parcels.to_file(export)\n"
     ]
    }
   ],
   "source": [
    "from src.data.make_dataset import mmc_heat_blocks\n",
    "from datetime import datetime\n",
    "\n",
    "\n",
    "mmc_town_names = ['Arlington', \n",
    "                  #'Boston', \n",
    "                  'Braintree', 'Brookline', 'Cambridge', 'Chelsea', \n",
    "             'Everett', 'Malden', 'Medford', 'Melrose', 'Newton', 'Quincy', 'Revere', \n",
    "             'Somerville', 'Watertown', 'Winthrop']\n",
    "\n",
    "for town_name in mmc_town_names:\n",
    "  \n",
    "    print(town_name + ' processing starting at ' + str(datetime.now()))\n",
    "\n",
    "    cool_roof_footprints_layer = os.path.join(cool_roofs_gdb, (town_name + '_footprints'))\n",
    "    \n",
    "    if arcpy.Exists(cool_roof_footprints_layer): #an existing out_slope_raster would mean this town has already been processed\n",
    "        pass\n",
    "\n",
    "\n",
    "    else:\n",
    "    \n",
    "        rooftops_layer = make_coolroof_roofprints_layer(town_name=town_name)\n",
    "        \n",
    "        #input for the cool_roof_process() function has to be a gdf\n",
    "        rooftops_gdf = gpd.read_file(cool_roofs_gdb, layer=(town_name + '_footprints'))\n",
    "\n",
    "        town_structures_w_info = cool_roof_process(town_name=town_name, \n",
    "                                                    rooftops_layer=rooftops_gdf,\n",
    "                                                    heat_blocks_layer=mmc_heat_blocks)\n"
   ]
  },
  {
   "cell_type": "code",
   "execution_count": null,
   "metadata": {},
   "outputs": [],
   "source": [
    "## CREATE LAS DATASET ##\n",
    "\n",
    "point_selection_method = 'CLOSEST_TO_CENTER'\n",
    "\n",
    "arcpy.CreateLasDataset_management(input=las_folder,\n",
    "                                  out_las_dataset=las_dataset,\n",
    "                                  compute_stats='COMPUTE_STATS')\n",
    "                                  "
   ]
  }
 ],
 "metadata": {
  "kernelspec": {
   "display_name": "envs",
   "language": "python",
   "name": "python3"
  },
  "language_info": {
   "codemirror_mode": {
    "name": "ipython",
    "version": 3
   },
   "file_extension": ".py",
   "mimetype": "text/x-python",
   "name": "python",
   "nbconvert_exporter": "python",
   "pygments_lexer": "ipython3",
   "version": "3.9.18"
  }
 },
 "nbformat": 4,
 "nbformat_minor": 2
}
