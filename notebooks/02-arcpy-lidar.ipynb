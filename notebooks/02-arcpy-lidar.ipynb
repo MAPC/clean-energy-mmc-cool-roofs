{
 "cells": [
  {
   "cell_type": "code",
   "execution_count": 1,
   "metadata": {},
   "outputs": [],
   "source": [
    "#arcpy to process LIDAR data    \n",
    "%load_ext autoreload\n",
    "%autoreload 2\n",
    "\n",
    "from arcpy import env\n",
    "import pandas as pd\n",
    "from arcgis.features import GeoAccessor, GeoSeriesAccessor\n",
    "from arcpy.sa import *\n",
    "\n",
    "import sys\n",
    "sys.path.append(\"..\")\n",
    "\n",
    "from src.features.create_rasters import *\n",
    "from src.features.arcpy_scripts import *\n",
    "from src.features.custom_functions import * \n"
   ]
  },
  {
   "cell_type": "code",
   "execution_count": 2,
   "metadata": {},
   "outputs": [],
   "source": [
    "#define variables\n",
    "\n",
    "#town name\n",
    "#town_name = 'MMC'\n",
    "#project geodatabase\n",
    "env.workspace = r'K:\\DataServices\\Projects\\Current_Projects\\Climate_Change\\MVP_MMC_CoolRoofs_MVP\\ArcGIS\\CoolRoofs_Analysis.gdb'\n",
    "\n",
    "env.overwriteOutput = True\n",
    "\n",
    "#folder that contains las data\n",
    "las_folder = r'I:\\Imagery\\MassGIS_LAS_files'\n",
    "\n",
    "#dataset file path\n",
    "#las_dataset = r'I:\\Imagery\\MassGIS_LAS_files\\MMC_lasdataset.lasd'\n",
    "\n",
    "arcpy.env.outputCoordinateSystem = arcpy.SpatialReference(\"NAD 1983 StatePlane Massachusetts FIPS 2001 (Meters)\")\n",
    "\n",
    "\n",
    "\n"
   ]
  },
  {
   "cell_type": "code",
   "execution_count": 4,
   "metadata": {},
   "outputs": [
    {
     "ename": "ImportError",
     "evalue": "cannot import name 'intermediate_path' from 'src.data.make_dataset' (c:\\Users\\rbowers\\scripting-projects\\clean-energy-mmc-cool-roofs\\notebooks\\..\\src\\data\\make_dataset.py)",
     "output_type": "error",
     "traceback": [
      "\u001b[1;31m---------------------------------------------------------------------------\u001b[0m",
      "\u001b[1;31mImportError\u001b[0m                               Traceback (most recent call last)",
      "\u001b[1;32m~\\AppData\\Local\\Temp\\3\\ipykernel_28100\\3552860266.py\u001b[0m in \u001b[0;36m<cell line: 6>\u001b[1;34m()\u001b[0m\n\u001b[0;32m      4\u001b[0m \u001b[1;33m\u001b[0m\u001b[0m\n\u001b[0;32m      5\u001b[0m \u001b[1;31m#from src.data.make_dataset import heat_fp\u001b[0m\u001b[1;33m\u001b[0m\u001b[1;33m\u001b[0m\u001b[0m\n\u001b[1;32m----> 6\u001b[1;33m \u001b[0mheat_score_mmc\u001b[0m \u001b[1;33m=\u001b[0m \u001b[0mget_heat_score_mmc\u001b[0m\u001b[1;33m(\u001b[0m\u001b[0mheat_index_fp\u001b[0m\u001b[1;33m=\u001b[0m\u001b[0mheat_fp\u001b[0m\u001b[1;33m)\u001b[0m\u001b[1;33m\u001b[0m\u001b[1;33m\u001b[0m\u001b[0m\n\u001b[0m",
      "\u001b[1;32mc:\\Users\\rbowers\\scripting-projects\\clean-energy-mmc-cool-roofs\\notebooks\\..\\src\\features\\custom_functions.py\u001b[0m in \u001b[0;36mget_heat_score_mmc\u001b[1;34m(heat_index_fp)\u001b[0m\n\u001b[0;32m    354\u001b[0m     '''\n\u001b[0;32m    355\u001b[0m     \u001b[1;32mfrom\u001b[0m \u001b[0mrasterstats\u001b[0m \u001b[1;32mimport\u001b[0m \u001b[0mzonal_stats\u001b[0m\u001b[1;33m\u001b[0m\u001b[1;33m\u001b[0m\u001b[0m\n\u001b[1;32m--> 356\u001b[1;33m     \u001b[1;32mfrom\u001b[0m \u001b[0msrc\u001b[0m\u001b[1;33m.\u001b[0m\u001b[0mdata\u001b[0m\u001b[1;33m.\u001b[0m\u001b[0mmake_dataset\u001b[0m \u001b[1;32mimport\u001b[0m \u001b[0mmapc_blocks\u001b[0m\u001b[1;33m,\u001b[0m \u001b[0mmmc_munis\u001b[0m\u001b[1;33m,\u001b[0m \u001b[0mmunis\u001b[0m\u001b[1;33m,\u001b[0m \u001b[0mintermediate_path\u001b[0m\u001b[1;33m\u001b[0m\u001b[1;33m\u001b[0m\u001b[0m\n\u001b[0m\u001b[0;32m    357\u001b[0m \u001b[1;33m\u001b[0m\u001b[0m\n\u001b[0;32m    358\u001b[0m \u001b[1;33m\u001b[0m\u001b[0m\n",
      "\u001b[1;31mImportError\u001b[0m: cannot import name 'intermediate_path' from 'src.data.make_dataset' (c:\\Users\\rbowers\\scripting-projects\\clean-energy-mmc-cool-roofs\\notebooks\\..\\src\\data\\make_dataset.py)"
     ]
    }
   ],
   "source": [
    "#only run this if need be [last run on all MMC: 5/1/2024]\n",
    "\n",
    "#las_dataset = create_las_dataset(las_folder=las_folder, las_dataset=las_dataset)\n",
    "\n",
    "#from src.data.make_dataset import heat_fp\n",
    "heat_score_mmc = get_heat_score_mmc(heat_index_fp=heat_fp)\n"
   ]
  },
  {
   "cell_type": "code",
   "execution_count": null,
   "metadata": {},
   "outputs": [
    {
     "name": "stdout",
     "output_type": "stream",
     "text": [
      "las dataset creation begings at 2024-05-03 13:23:29.527942\n",
      "ndsm raster creation begins at 2024-05-03 13:23:29.527942\n"
     ]
    },
    {
     "ename": "ExecuteError",
     "evalue": "ERROR 999999: Something unexpected caused the tool to fail. Contact Esri Technical Support (http://esriurl.com/support) to Report a Bug, and refer to the error help for potential solutions or workarounds.\nGeneral function failure\nA column was specified that does not exist.\nA column was specified that does not exist.\nA column was specified that does not exist.\nA column was specified that does not exist.\nA column was specified that does not exist.\nA column was specified that does not exist.\nA column was specified that does not exist.\nA column was specified that does not exist.\nA column was specified that does not exist.\nA column was specified that does not exist.\nA column was specified that does not exist.\nA column was specified that does not exist.\nA column was specified that does not exist.\nA column was specified that does not exist.\nA column was specified that does not exist.\nA column was specified that does not exist.\nA column was specified that does not exist.\nA column was specified that does not exist.\nA column was specified that does not exist.\nA column was specified that does not exist.\nA column was specified that does not exist.\nA column was specified that does not exist.\nA column was specified that does not exist.\nA column was specified that does not exist.\nA column was specified that does not exist.\nA column was specified that does not exist.\nA column was specified that does not exist.\nA column was specified that does not exist.\nA column was specified that does not exist.\nA column was specified that does not exist.\nA column was specified that does not exist.\nA column was specified that does not exist.\nA column was specified that does not exist.\nA column was specified that does not exist.\nA column was specified that does not exist.\nA column was specified that does not exist.\nA column was specified that does not exist.\nA column was specified that does not exist.\nA column was specified that does not exist.\nA column was specified that does not exist.\nA column was specified that does not exist.\nA column was specified that does not exist.\nA column was specified that does not exist.\nA column was specified that does not exist.\nA column was specified that does not exist.\nA column was specified that does not exist.\nA column was specified that does not exist.\nA column was specified that does not exist.\nA column was specified that does not exist.\nA column was specified that does not exist.\nA column was specified that does not exist.\nA column was specified that does not exist.\nA column was specified that does not exist.\nA column was specified that does not exist.\nA column was specified that does not exist.\nA column was specified that does not exist.\nA column was specified that does not exist.\nA column was specified that does not exist.\nA column was specified that does not exist.\nA column was specified that does not exist.\nA column was specified that does not exist.\nA column was specified that does not exist.\nA column was specified that does not exist.\nA column was specified that does not exist.\nA column was specified that does not exist.\nA column was specified that does not exist.\nA column was specified that does not exist.\nA column was specified that does not exist.\nA column was specified that does not exist.\nA column was specified that does not exist.\nA column was specified that does not exist.\nA column was specified that does not exist.\nA column was specified that does not exist.\nA column was specified that does not exist.\nA column was specified that does not exist.\nA column was specified that does not exist.\nA column was specified that does not exist.\nA column was specified that does not exist.\nA column was specified that does not exist.\nA column was specified that does not exist.\nA column was specified that does not exist.\nA column was specified that does not exist.\nA column was specified that does not exist.\nA column was specified that does not exist.\nA column was specified that does not exist.\nA column was specified that does not exist.\nA column was specified that does not exist.\nA column was specified that does not exist.\nA column was specified that does not exist.\nA column was specified that does not exist.\nA column was specified that does not exist.\nA column was specified that does not exist.\nA column was specified that does not exist.\nA column was specified that does not exist.\nThe table was not found. [VAT_Revere_building_dsm_surface]\nThe table was not found. [VAT_Revere_building_dsm_surface]\nFailed to execute (LasDatasetToRaster).\n",
     "output_type": "error",
     "traceback": [
      "\u001b[1;31m---------------------------------------------------------------------------\u001b[0m",
      "\u001b[1;31mExecuteError\u001b[0m                              Traceback (most recent call last)",
      "\u001b[1;32m~\\AppData\\Local\\Temp\\3\\ipykernel_19144\\1670127353.py\u001b[0m in \u001b[0;36m<cell line: 5>\u001b[1;34m()\u001b[0m\n\u001b[0;32m     11\u001b[0m     \u001b[0mprint\u001b[0m\u001b[1;33m(\u001b[0m\u001b[1;34m'ndsm raster creation begins at '\u001b[0m \u001b[1;33m+\u001b[0m \u001b[0mnow\u001b[0m\u001b[1;33m)\u001b[0m\u001b[1;33m\u001b[0m\u001b[1;33m\u001b[0m\u001b[0m\n\u001b[0;32m     12\u001b[0m \u001b[1;33m\u001b[0m\u001b[0m\n\u001b[1;32m---> 13\u001b[1;33m     ndsm_raster = create_ndsm_raster(town_name=town_name,\n\u001b[0m\u001b[0;32m     14\u001b[0m                                     las_dataset=las_dataset)\n\u001b[0;32m     15\u001b[0m \u001b[1;33m\u001b[0m\u001b[0m\n",
      "\u001b[1;32mc:\\Users\\rbowers\\scripting-projects\\clean-energy-mmc-cool-roofs\\notebooks\\..\\src\\features\\create_rasters.py\u001b[0m in \u001b[0;36mcreate_ndsm_raster\u001b[1;34m(town_name, las_dataset)\u001b[0m\n\u001b[0;32m    113\u001b[0m \u001b[1;33m\u001b[0m\u001b[0m\n\u001b[0;32m    114\u001b[0m \u001b[1;33m\u001b[0m\u001b[0m\n\u001b[1;32m--> 115\u001b[1;33m     arcpy.conversion.LasDatasetToRaster(in_las_dataset=dsm_layer, \n\u001b[0m\u001b[0;32m    116\u001b[0m                                         \u001b[0mout_raster\u001b[0m\u001b[1;33m=\u001b[0m\u001b[0mout_dsm_raster\u001b[0m\u001b[1;33m,\u001b[0m\u001b[1;33m\u001b[0m\u001b[1;33m\u001b[0m\u001b[0m\n\u001b[0;32m    117\u001b[0m                                         \u001b[0mvalue_field\u001b[0m\u001b[1;33m=\u001b[0m\u001b[1;34m'ELEVATION'\u001b[0m\u001b[1;33m,\u001b[0m\u001b[1;33m\u001b[0m\u001b[1;33m\u001b[0m\u001b[0m\n",
      "\u001b[1;32mC:\\Program Files\\ArcGIS\\Pro\\Resources\\ArcPy\\arcpy\\conversion.py\u001b[0m in \u001b[0;36mLasDatasetToRaster\u001b[1;34m(in_las_dataset, out_raster, value_field, interpolation_type, data_type, sampling_type, sampling_value, z_factor)\u001b[0m\n\u001b[0;32m   1521\u001b[0m         \u001b[1;32mreturn\u001b[0m \u001b[0mretval\u001b[0m\u001b[1;33m\u001b[0m\u001b[1;33m\u001b[0m\u001b[0m\n\u001b[0;32m   1522\u001b[0m     \u001b[1;32mexcept\u001b[0m \u001b[0mException\u001b[0m \u001b[1;32mas\u001b[0m \u001b[0me\u001b[0m\u001b[1;33m:\u001b[0m\u001b[1;33m\u001b[0m\u001b[1;33m\u001b[0m\u001b[0m\n\u001b[1;32m-> 1523\u001b[1;33m         \u001b[1;32mraise\u001b[0m \u001b[0me\u001b[0m\u001b[1;33m\u001b[0m\u001b[1;33m\u001b[0m\u001b[0m\n\u001b[0m\u001b[0;32m   1524\u001b[0m \u001b[1;33m\u001b[0m\u001b[0m\n\u001b[0;32m   1525\u001b[0m \u001b[1;33m@\u001b[0m\u001b[0mgptooldoc\u001b[0m\u001b[1;33m(\u001b[0m\u001b[1;34m'PointCloudToRaster_conversion'\u001b[0m\u001b[1;33m,\u001b[0m \u001b[1;32mNone\u001b[0m\u001b[1;33m)\u001b[0m\u001b[1;33m\u001b[0m\u001b[1;33m\u001b[0m\u001b[0m\n",
      "\u001b[1;32mC:\\Program Files\\ArcGIS\\Pro\\Resources\\ArcPy\\arcpy\\conversion.py\u001b[0m in \u001b[0;36mLasDatasetToRaster\u001b[1;34m(in_las_dataset, out_raster, value_field, interpolation_type, data_type, sampling_type, sampling_value, z_factor)\u001b[0m\n\u001b[0;32m   1518\u001b[0m     \u001b[1;32mfrom\u001b[0m \u001b[0marcpy\u001b[0m\u001b[1;33m.\u001b[0m\u001b[0marcobjects\u001b[0m\u001b[1;33m.\u001b[0m\u001b[0marcobjectconversion\u001b[0m \u001b[1;32mimport\u001b[0m \u001b[0mconvertArcObjectToPythonObject\u001b[0m\u001b[1;33m\u001b[0m\u001b[1;33m\u001b[0m\u001b[0m\n\u001b[0;32m   1519\u001b[0m     \u001b[1;32mtry\u001b[0m\u001b[1;33m:\u001b[0m\u001b[1;33m\u001b[0m\u001b[1;33m\u001b[0m\u001b[0m\n\u001b[1;32m-> 1520\u001b[1;33m         \u001b[0mretval\u001b[0m \u001b[1;33m=\u001b[0m \u001b[0mconvertArcObjectToPythonObject\u001b[0m\u001b[1;33m(\u001b[0m\u001b[0mgp\u001b[0m\u001b[1;33m.\u001b[0m\u001b[0mLasDatasetToRaster_conversion\u001b[0m\u001b[1;33m(\u001b[0m\u001b[1;33m*\u001b[0m\u001b[0mgp_fixargs\u001b[0m\u001b[1;33m(\u001b[0m\u001b[1;33m(\u001b[0m\u001b[0min_las_dataset\u001b[0m\u001b[1;33m,\u001b[0m \u001b[0mout_raster\u001b[0m\u001b[1;33m,\u001b[0m \u001b[0mvalue_field\u001b[0m\u001b[1;33m,\u001b[0m \u001b[0minterpolation_type\u001b[0m\u001b[1;33m,\u001b[0m \u001b[0mdata_type\u001b[0m\u001b[1;33m,\u001b[0m \u001b[0msampling_type\u001b[0m\u001b[1;33m,\u001b[0m \u001b[0msampling_value\u001b[0m\u001b[1;33m,\u001b[0m \u001b[0mz_factor\u001b[0m\u001b[1;33m)\u001b[0m\u001b[1;33m,\u001b[0m \u001b[1;32mTrue\u001b[0m\u001b[1;33m)\u001b[0m\u001b[1;33m)\u001b[0m\u001b[1;33m)\u001b[0m\u001b[1;33m\u001b[0m\u001b[1;33m\u001b[0m\u001b[0m\n\u001b[0m\u001b[0;32m   1521\u001b[0m         \u001b[1;32mreturn\u001b[0m \u001b[0mretval\u001b[0m\u001b[1;33m\u001b[0m\u001b[1;33m\u001b[0m\u001b[0m\n\u001b[0;32m   1522\u001b[0m     \u001b[1;32mexcept\u001b[0m \u001b[0mException\u001b[0m \u001b[1;32mas\u001b[0m \u001b[0me\u001b[0m\u001b[1;33m:\u001b[0m\u001b[1;33m\u001b[0m\u001b[1;33m\u001b[0m\u001b[0m\n",
      "\u001b[1;32mC:\\Program Files\\ArcGIS\\Pro\\Resources\\ArcPy\\arcpy\\geoprocessing\\_base.py\u001b[0m in \u001b[0;36m<lambda>\u001b[1;34m(*args)\u001b[0m\n\u001b[0;32m    518\u001b[0m         \u001b[0mval\u001b[0m \u001b[1;33m=\u001b[0m \u001b[0mgetattr\u001b[0m\u001b[1;33m(\u001b[0m\u001b[0mself\u001b[0m\u001b[1;33m.\u001b[0m\u001b[0m_gp\u001b[0m\u001b[1;33m,\u001b[0m \u001b[0mattr\u001b[0m\u001b[1;33m)\u001b[0m\u001b[1;33m\u001b[0m\u001b[1;33m\u001b[0m\u001b[0m\n\u001b[0;32m    519\u001b[0m         \u001b[1;32mif\u001b[0m \u001b[0mcallable\u001b[0m\u001b[1;33m(\u001b[0m\u001b[0mval\u001b[0m\u001b[1;33m)\u001b[0m\u001b[1;33m:\u001b[0m\u001b[1;33m\u001b[0m\u001b[1;33m\u001b[0m\u001b[0m\n\u001b[1;32m--> 520\u001b[1;33m             \u001b[1;32mreturn\u001b[0m \u001b[1;32mlambda\u001b[0m \u001b[1;33m*\u001b[0m\u001b[0margs\u001b[0m\u001b[1;33m:\u001b[0m \u001b[0mval\u001b[0m\u001b[1;33m(\u001b[0m\u001b[1;33m*\u001b[0m\u001b[0mgp_fixargs\u001b[0m\u001b[1;33m(\u001b[0m\u001b[0margs\u001b[0m\u001b[1;33m,\u001b[0m \u001b[1;32mTrue\u001b[0m\u001b[1;33m)\u001b[0m\u001b[1;33m)\u001b[0m\u001b[1;33m\u001b[0m\u001b[1;33m\u001b[0m\u001b[0m\n\u001b[0m\u001b[0;32m    521\u001b[0m         \u001b[1;32melse\u001b[0m\u001b[1;33m:\u001b[0m\u001b[1;33m\u001b[0m\u001b[1;33m\u001b[0m\u001b[0m\n\u001b[0;32m    522\u001b[0m             \u001b[1;32mreturn\u001b[0m \u001b[0mconvertArcObjectToPythonObject\u001b[0m\u001b[1;33m(\u001b[0m\u001b[0mval\u001b[0m\u001b[1;33m)\u001b[0m\u001b[1;33m\u001b[0m\u001b[1;33m\u001b[0m\u001b[0m\n",
      "\u001b[1;31mExecuteError\u001b[0m: ERROR 999999: Something unexpected caused the tool to fail. Contact Esri Technical Support (http://esriurl.com/support) to Report a Bug, and refer to the error help for potential solutions or workarounds.\nGeneral function failure\nA column was specified that does not exist.\nA column was specified that does not exist.\nA column was specified that does not exist.\nA column was specified that does not exist.\nA column was specified that does not exist.\nA column was specified that does not exist.\nA column was specified that does not exist.\nA column was specified that does not exist.\nA column was specified that does not exist.\nA column was specified that does not exist.\nA column was specified that does not exist.\nA column was specified that does not exist.\nA column was specified that does not exist.\nA column was specified that does not exist.\nA column was specified that does not exist.\nA column was specified that does not exist.\nA column was specified that does not exist.\nA column was specified that does not exist.\nA column was specified that does not exist.\nA column was specified that does not exist.\nA column was specified that does not exist.\nA column was specified that does not exist.\nA column was specified that does not exist.\nA column was specified that does not exist.\nA column was specified that does not exist.\nA column was specified that does not exist.\nA column was specified that does not exist.\nA column was specified that does not exist.\nA column was specified that does not exist.\nA column was specified that does not exist.\nA column was specified that does not exist.\nA column was specified that does not exist.\nA column was specified that does not exist.\nA column was specified that does not exist.\nA column was specified that does not exist.\nA column was specified that does not exist.\nA column was specified that does not exist.\nA column was specified that does not exist.\nA column was specified that does not exist.\nA column was specified that does not exist.\nA column was specified that does not exist.\nA column was specified that does not exist.\nA column was specified that does not exist.\nA column was specified that does not exist.\nA column was specified that does not exist.\nA column was specified that does not exist.\nA column was specified that does not exist.\nA column was specified that does not exist.\nA column was specified that does not exist.\nA column was specified that does not exist.\nA column was specified that does not exist.\nA column was specified that does not exist.\nA column was specified that does not exist.\nA column was specified that does not exist.\nA column was specified that does not exist.\nA column was specified that does not exist.\nA column was specified that does not exist.\nA column was specified that does not exist.\nA column was specified that does not exist.\nA column was specified that does not exist.\nA column was specified that does not exist.\nA column was specified that does not exist.\nA column was specified that does not exist.\nA column was specified that does not exist.\nA column was specified that does not exist.\nA column was specified that does not exist.\nA column was specified that does not exist.\nA column was specified that does not exist.\nA column was specified that does not exist.\nA column was specified that does not exist.\nA column was specified that does not exist.\nA column was specified that does not exist.\nA column was specified that does not exist.\nA column was specified that does not exist.\nA column was specified that does not exist.\nA column was specified that does not exist.\nA column was specified that does not exist.\nA column was specified that does not exist.\nA column was specified that does not exist.\nA column was specified that does not exist.\nA column was specified that does not exist.\nA column was specified that does not exist.\nA column was specified that does not exist.\nA column was specified that does not exist.\nA column was specified that does not exist.\nA column was specified that does not exist.\nA column was specified that does not exist.\nA column was specified that does not exist.\nA column was specified that does not exist.\nA column was specified that does not exist.\nA column was specified that does not exist.\nA column was specified that does not exist.\nA column was specified that does not exist.\nA column was specified that does not exist.\nThe table was not found. [VAT_Revere_building_dsm_surface]\nThe table was not found. [VAT_Revere_building_dsm_surface]\nFailed to execute (LasDatasetToRaster).\n"
     ]
    }
   ],
   "source": [
    "town_names = ['Revere']\n",
    "from datetime import datetime\n",
    "now = str(datetime.now())\n",
    "\n",
    "for town_name in town_names:\n",
    "\n",
    "    print('las dataset creation begings at ' + now)\n",
    "    las_dataset = create_las_dataset(town_name = town_name, \n",
    "                                     las_folder=las_folder)\n",
    "\n",
    "    print('ndsm raster creation begins at ' + now)\n",
    "\n",
    "    ndsm_raster = create_ndsm_raster(town_name=town_name,\n",
    "                                    las_dataset=las_dataset)\n",
    "\n",
    "    print('slope raster creation begins at ' + now)\n",
    "\n",
    "    slope_raster = create_slope_raster(town_name=town_name,\n",
    "                                    ndsm_raster=ndsm_raster)\n",
    "\n",
    "    #aspect_raster = create_aspect_raster(town_name=town_name,\n",
    "    #                                     ndsm_raster=ndsm_raster)\n",
    "\n",
    "    print('intensity raster creation begins at ' + now)\n",
    "\n",
    "    intensity_raster = create_intensity_raster(town_name=town_name, \n",
    "                                                las_dataset=las_dataset)\n",
    "\n",
    "    print('rooftops layer begins at ' + now)\n",
    "    \n",
    "    rooftops_layer = make_coolroof_roofprints_layer(town_name=town_name)\n",
    "\n",
    "    print('final layer creation begins at ' + now)\n",
    "\n",
    "    town_structures_w_info = cool_roof_process(town_name=town_name, \n",
    "                                            rooftops_layer=rooftops_layer,\n",
    "                                            heat_blocks_layer=heat_score_mmc)\n",
    "\n",
    "    '''arcpy.Delete_management(ndsm_raster)\n",
    "    arcpy.Delete_management(slope_raster)\n",
    "    arcpy.Delete_management(intensity_raster)\n",
    "    arcpy.Delete_management(rooftops_layer)'''\n",
    "\n",
    "#look into deleting the underlying rasters afterward?\n",
    "#can also adjust the "
   ]
  },
  {
   "cell_type": "code",
   "execution_count": 13,
   "metadata": {},
   "outputs": [
    {
     "name": "stderr",
     "output_type": "stream",
     "text": [
      "c:\\Users\\rbowers\\.conda\\envs\\ArcPy\\lib\\site-packages\\openpyxl\\worksheet\\header_footer.py:48: UserWarning: Cannot parse header or footer so it will be ignored\n",
      "  warn(\"\"\"Cannot parse header or footer so it will be ignored\"\"\")\n"
     ]
    },
    {
     "name": "stderr",
     "output_type": "stream",
     "text": [
      "c:\\Users\\rbowers\\scripting-projects\\clean-energy-mmc-cool-roofs\\notebooks\\..\\src\\features\\custom_functions.py:598: UserWarning: Column names longer than 10 characters will be truncated when saved to ESRI Shapefile.\n",
      "  export = os.path.join(data_folder, (town_name + '_cool_roofs.shp'))\n"
     ]
    }
   ],
   "source": [
    "town_name = 'Revere'\n",
    "gdb = r\"K:\\DataServices\\Projects\\Current_Projects\\Climate_Change\\MVP_MMC_CoolRoofs_MVP\\ArcGIS\\CoolRoofs_Analysis.gdb\"\n",
    "rooftops_layer = gpd.read_file(gdb, layer=(town_name + '_footprints_with_info'))\n",
    "\n",
    "town_structures_w_info = cool_roof_process(town_name=town_name, \n",
    "                                            rooftops_layer=rooftops_layer,\n",
    "                                            heat_blocks_layer=heat_score_mmc)"
   ]
  },
  {
   "cell_type": "markdown",
   "metadata": {},
   "source": [
    "## Roof Extraction\n",
    "\n",
    "Drawing from [this tutorial](https://doc.arcgis.com/en/imagery/workflows/best-practices/las-dataset-to-create-dtm-and-dsm-rasters.htm).\n",
    "- Also [this video](https://www.youtube.com/watch?v=2pThNwhJ418&t=727s)\n",
    "\n",
    "Steps:\n",
    "- Generate a Digital Terrain Model (DTM) (LAS Dataset to Raster)\n",
    "- Generate a Digital Surface Model (DSM) (LAS Dataset to Raster)\n",
    "- Generate the Normalized Digital Surface Model (nDSM) (raster calculator)\n",
    "- Aspect and Slope of nDSM\n"
   ]
  },
  {
   "cell_type": "code",
   "execution_count": null,
   "metadata": {},
   "outputs": [],
   "source": [
    "## CREATE LAS DATASET ##\n",
    "\n",
    "point_selection_method = 'CLOSEST_TO_CENTER'\n",
    "\n",
    "arcpy.CreateLasDataset_management(input=las_folder,\n",
    "                                  out_las_dataset=las_dataset,\n",
    "                                  compute_stats='COMPUTE_STATS')\n",
    "                                  "
   ]
  },
  {
   "cell_type": "markdown",
   "metadata": {},
   "source": [
    "# Zonal Stats with slope and aspect"
   ]
  },
  {
   "cell_type": "code",
   "execution_count": null,
   "metadata": {},
   "outputs": [],
   "source": []
  },
  {
   "cell_type": "code",
   "execution_count": null,
   "metadata": {},
   "outputs": [],
   "source": [
    "\n"
   ]
  },
  {
   "cell_type": "code",
   "execution_count": null,
   "metadata": {},
   "outputs": [],
   "source": [
    "## NDSM ##"
   ]
  },
  {
   "cell_type": "code",
   "execution_count": null,
   "metadata": {},
   "outputs": [],
   "source": [
    "arcpy.management.BuildLasDatasetPyramid(in_las_dataset=las_dataset,\n",
    "                                 point_selection_method=point_selection_method)"
   ]
  }
 ],
 "metadata": {
  "kernelspec": {
   "display_name": "envs",
   "language": "python",
   "name": "python3"
  },
  "language_info": {
   "codemirror_mode": {
    "name": "ipython",
    "version": 3
   },
   "file_extension": ".py",
   "mimetype": "text/x-python",
   "name": "python",
   "nbconvert_exporter": "python",
   "pygments_lexer": "ipython3",
   "version": "3.9.18"
  }
 },
 "nbformat": 4,
 "nbformat_minor": 2
}
