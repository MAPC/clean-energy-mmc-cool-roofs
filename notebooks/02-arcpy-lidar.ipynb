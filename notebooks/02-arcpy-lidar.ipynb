{
 "cells": [
  {
   "cell_type": "code",
   "execution_count": 6,
   "metadata": {},
   "outputs": [
    {
     "name": "stdout",
     "output_type": "stream",
     "text": [
      "The autoreload extension is already loaded. To reload it, use:\n",
      "  %reload_ext autoreload\n"
     ]
    }
   ],
   "source": [
    "#arcpy to process LIDAR data    \n",
    "%load_ext autoreload\n",
    "%autoreload 2\n",
    "\n",
    "from arcpy import env\n",
    "import pandas as pd\n",
    "from arcgis.features import GeoAccessor, GeoSeriesAccessor\n",
    "from arcpy.sa import *\n",
    "\n",
    "import sys\n",
    "sys.path.append(\"..\")\n",
    "\n",
    "from src.features.create_rasters import *\n",
    "from src.features.arcpy_scripts import *\n",
    "from src.features.custom_functions import * \n"
   ]
  },
  {
   "cell_type": "code",
   "execution_count": null,
   "metadata": {},
   "outputs": [],
   "source": [
    "#define variables - not sure if this is necessary? probably not?\n",
    "\n",
    "#project geodatabase\n",
    "#env.workspace = r'C:\\Users\\rbowers\\Desktop\\cool_roof_analysis_offnetwork.gdb'\n",
    "#env.overwriteOutput = True\n",
    "\n",
    "#dataset file path\n",
    "#las_dataset = r'I:\\Imagery\\MassGIS_LAS_files\\MMC_lasdataset.lasd'\n",
    "\n",
    "#arcpy.env.outputCoordinateSystem = arcpy.SpatialReference(\"NAD 1983 StatePlane Massachusetts FIPS 2001 (Meters)\")\n"
   ]
  },
  {
   "cell_type": "markdown",
   "metadata": {},
   "source": [
    "### Run these only if need be \n",
    "\n",
    "- las_dataset was last created for all MMC on 5/1/2024\n",
    "- heat_score_mmc was last created for all MMC on 5/1/2024"
   ]
  },
  {
   "cell_type": "code",
   "execution_count": null,
   "metadata": {},
   "outputs": [],
   "source": [
    "#only run this if need be [last run on all MMC: 5/1/2024]\n",
    "from src.data.make_dataset import heat_fp, las_folder\n",
    "\n",
    "\n",
    "#las_dataset = create_las_dataset(las_folder=las_folder, las_dataset=las_dataset)\n",
    "\n",
    "heat_score_mmc = get_heat_score_mmc(heat_index_fp=heat_fp)"
   ]
  },
  {
   "cell_type": "markdown",
   "metadata": {},
   "source": [
    "### First create slope and intensity rasters for each municipality\n",
    "\n",
    "Result in geodatabase should be just a slope and intensity raster for each muni "
   ]
  },
  {
   "cell_type": "code",
   "execution_count": null,
   "metadata": {},
   "outputs": [],
   "source": [
    "mmc_town_names = ['Arlington', 'Boston', 'Braintree', 'Brookline', 'Cambridge', 'Chelsea', \n",
    "             'Everett', 'Malden', 'Medford', 'Melrose', 'Newton', 'Quincy', 'Revere', \n",
    "             'Somerville', 'Watertown', 'Winthrop']\n",
    "\n",
    "\n",
    "#note that Revere was removed from this list since it was the test one \n",
    "\n",
    "from datetime import datetime\n",
    "\n",
    "for town_name in mmc_town_names:\n",
    "    \n",
    "    print(town_name + ' processing starting at ' + str(datetime.now()))\n",
    "\n",
    "\n",
    "    las_dataset = create_las_dataset(town_name = town_name, \n",
    "                                     las_folder=las_folder)\n",
    "    \n",
    "\n",
    "    ndsm_raster = create_ndsm_raster(town_name=town_name,\n",
    "                                    las_dataset=las_dataset)\n",
    "    \n",
    "\n",
    "    slope_raster = create_slope_raster(town_name=town_name,\n",
    "                                        ndsm_raster=ndsm_raster)\n",
    "    \n",
    "    #removing aspect for now, may include later to refine the flat roof analysis\n",
    "    #aspect_raster = create_aspect_raster(town_name=town_name,\n",
    "    #                                     ndsm_raster=ndsm_raster)\n",
    "\n",
    "\n",
    "    intensity_raster = create_intensity_raster(town_name=town_name, \n",
    "                                                las_dataset=las_dataset)\n"
   ]
  },
  {
   "cell_type": "markdown",
   "metadata": {},
   "source": [
    "### Then create enriched roofprint polygon datasets"
   ]
  },
  {
   "cell_type": "code",
   "execution_count": 2,
   "metadata": {},
   "outputs": [
    {
     "name": "stdout",
     "output_type": "stream",
     "text": [
      "get town boundary\n",
      "town footprints\n",
      "extract by mask\n",
      "reclassify\n",
      "joining\n",
      "intensity\n",
      "zonal stats\n"
     ]
    }
   ],
   "source": [
    "town_name = 'Revere'\n",
    "rooftops_layer = make_coolroof_roofprints_layer(town_name=town_name)"
   ]
  },
  {
   "cell_type": "code",
   "execution_count": 10,
   "metadata": {},
   "outputs": [
    {
     "name": "stdout",
     "output_type": "stream",
     "text": [
      "Arlington processing starting at 2024-05-09 08:52:45.078335\n",
      "Boston processing starting at 2024-05-09 08:52:45.326340\n",
      "get town boundary\n",
      "town footprints\n",
      "extract by mask\n",
      "reclassify\n",
      "joining\n",
      "intensity\n",
      "extract by mask, intensity\n"
     ]
    },
    {
     "ename": "RuntimeError",
     "evalue": "The pixel block exceeds the maximum size allowed.",
     "output_type": "error",
     "traceback": [
      "\u001b[1;31m---------------------------------------------------------------------------\u001b[0m",
      "\u001b[1;31mRuntimeError\u001b[0m                              Traceback (most recent call last)",
      "\u001b[1;32m~\\AppData\\Local\\Temp\\4\\ipykernel_1928\\235129139.py\u001b[0m in \u001b[0;36m<cell line: 10>\u001b[1;34m()\u001b[0m\n\u001b[0;32m     20\u001b[0m     \u001b[1;32melse\u001b[0m\u001b[1;33m:\u001b[0m\u001b[1;33m\u001b[0m\u001b[1;33m\u001b[0m\u001b[0m\n\u001b[0;32m     21\u001b[0m \u001b[1;33m\u001b[0m\u001b[0m\n\u001b[1;32m---> 22\u001b[1;33m         \u001b[0mrooftops_layer\u001b[0m \u001b[1;33m=\u001b[0m \u001b[0mmake_coolroof_roofprints_layer\u001b[0m\u001b[1;33m(\u001b[0m\u001b[0mtown_name\u001b[0m\u001b[1;33m=\u001b[0m\u001b[0mtown_name\u001b[0m\u001b[1;33m)\u001b[0m\u001b[1;33m\u001b[0m\u001b[1;33m\u001b[0m\u001b[0m\n\u001b[0m\u001b[0;32m     23\u001b[0m \u001b[1;33m\u001b[0m\u001b[0m\n\u001b[0;32m     24\u001b[0m         \u001b[1;31m#input for the cool_roof_process() function has to be a gdf\u001b[0m\u001b[1;33m\u001b[0m\u001b[1;33m\u001b[0m\u001b[0m\n",
      "\u001b[1;32mc:\\Users\\rbowers\\scripting-projects\\clean-energy-mmc-cool-roofs\\notebooks\\..\\src\\features\\custom_functions.py\u001b[0m in \u001b[0;36mmake_coolroof_roofprints_layer\u001b[1;34m(town_name)\u001b[0m\n\u001b[0;32m    191\u001b[0m                                     \"INSIDE\")\n\u001b[0;32m    192\u001b[0m \u001b[1;33m\u001b[0m\u001b[0m\n\u001b[1;32m--> 193\u001b[1;33m     \u001b[0mprint\u001b[0m\u001b[1;33m(\u001b[0m\u001b[1;34m'reclassify, intensity'\u001b[0m\u001b[1;33m)\u001b[0m\u001b[1;33m\u001b[0m\u001b[1;33m\u001b[0m\u001b[0m\n\u001b[0m\u001b[0;32m    194\u001b[0m \u001b[1;33m\u001b[0m\u001b[0m\n\u001b[0;32m    195\u001b[0m     \u001b[0mintensity_reclassified\u001b[0m \u001b[1;33m=\u001b[0m \u001b[0mreclassify_by_quantiles\u001b[0m\u001b[1;33m(\u001b[0m\u001b[0mtown_intensity_raster\u001b[0m\u001b[1;33m,\u001b[0m \u001b[1;36m10\u001b[0m\u001b[1;33m)\u001b[0m \u001b[1;31m#reclassify by quantiles\u001b[0m\u001b[1;33m\u001b[0m\u001b[1;33m\u001b[0m\u001b[0m\n",
      "\u001b[1;32mc:\\Users\\rbowers\\scripting-projects\\clean-energy-mmc-cool-roofs\\notebooks\\..\\src\\features\\arcpy_scripts.py\u001b[0m in \u001b[0;36mreclassify_by_quantiles\u001b[1;34m(raster, quantiles)\u001b[0m\n\u001b[0;32m     32\u001b[0m     \u001b[1;31m# If the raster is not an integer type, then there is no need to futz with NaNs\u001b[0m\u001b[1;33m\u001b[0m\u001b[1;33m\u001b[0m\u001b[0m\n\u001b[0;32m     33\u001b[0m     \u001b[1;32mif\u001b[0m \u001b[0mdesc\u001b[0m\u001b[1;33m.\u001b[0m\u001b[0mpixelType\u001b[0m\u001b[1;33m.\u001b[0m\u001b[0mstartswith\u001b[0m\u001b[1;33m(\u001b[0m\u001b[1;34m'F'\u001b[0m\u001b[1;33m)\u001b[0m\u001b[1;33m:\u001b[0m\u001b[1;33m\u001b[0m\u001b[1;33m\u001b[0m\u001b[0m\n\u001b[1;32m---> 34\u001b[1;33m         \u001b[0marr\u001b[0m \u001b[1;33m=\u001b[0m \u001b[0marcpy\u001b[0m\u001b[1;33m.\u001b[0m\u001b[0mRasterToNumPyArray\u001b[0m\u001b[1;33m(\u001b[0m\u001b[0mraster\u001b[0m\u001b[1;33m,\u001b[0m \u001b[0mnodata_to_value\u001b[0m\u001b[1;33m=\u001b[0m\u001b[0mnumpy\u001b[0m\u001b[1;33m.\u001b[0m\u001b[0mNaN\u001b[0m\u001b[1;33m)\u001b[0m\u001b[1;33m\u001b[0m\u001b[1;33m\u001b[0m\u001b[0m\n\u001b[0m\u001b[0;32m     35\u001b[0m     \u001b[1;31m# Since integer arrays can't contain NaNs, you must do wackiness\u001b[0m\u001b[1;33m\u001b[0m\u001b[1;33m\u001b[0m\u001b[0m\n\u001b[0;32m     36\u001b[0m     \u001b[1;32melse\u001b[0m\u001b[1;33m:\u001b[0m\u001b[1;33m\u001b[0m\u001b[1;33m\u001b[0m\u001b[0m\n",
      "\u001b[1;32mC:\\Program Files\\ArcGIS\\Pro\\Resources\\ArcPy\\arcpy\\__init__.py\u001b[0m in \u001b[0;36mRasterToNumPyArray\u001b[1;34m(*args, **kwargs)\u001b[0m\n\u001b[0;32m   2477\u001b[0m \u001b[1;33m\u001b[0m\u001b[0m\n\u001b[0;32m   2478\u001b[0m        If no value is specified, the NoData value of in_raster will be used.\"\"\"\n\u001b[1;32m-> 2479\u001b[1;33m     \u001b[1;32mreturn\u001b[0m \u001b[0m_RasterToNumPyArray\u001b[0m\u001b[1;33m(\u001b[0m\u001b[1;33m*\u001b[0m\u001b[0margs\u001b[0m\u001b[1;33m,\u001b[0m \u001b[1;33m**\u001b[0m\u001b[0mkwargs\u001b[0m\u001b[1;33m)\u001b[0m\u001b[1;33m\u001b[0m\u001b[1;33m\u001b[0m\u001b[0m\n\u001b[0m\u001b[0;32m   2480\u001b[0m \u001b[1;33m\u001b[0m\u001b[0m\n\u001b[0;32m   2481\u001b[0m \u001b[1;32mdef\u001b[0m \u001b[0mNumPyArrayToRaster\u001b[0m\u001b[1;33m(\u001b[0m\u001b[1;33m*\u001b[0m\u001b[0margs\u001b[0m\u001b[1;33m,\u001b[0m \u001b[1;33m**\u001b[0m\u001b[0mkwargs\u001b[0m\u001b[1;33m)\u001b[0m\u001b[1;33m:\u001b[0m\u001b[1;33m\u001b[0m\u001b[1;33m\u001b[0m\u001b[0m\n",
      "\u001b[1;31mRuntimeError\u001b[0m: The pixel block exceeds the maximum size allowed."
     ]
    }
   ],
   "source": [
    "from src.data.make_dataset import mmc_heat_blocks\n",
    "from datetime import datetime\n",
    "\n",
    "\n",
    "mmc_town_names = ['Arlington', 'Boston', 'Braintree', 'Brookline', 'Cambridge', 'Chelsea', \n",
    "             'Everett', 'Malden', 'Medford', 'Melrose', 'Newton', 'Quincy', 'Revere', \n",
    "             'Somerville', 'Watertown', 'Winthrop']\n",
    "\n",
    "for town_name in mmc_town_names:\n",
    "\n",
    "    print(town_name + ' processing starting at ' + str(datetime.now()))\n",
    "\n",
    "    cool_roof_footprints_layer = os.path.join(cool_roofs_gdb, (town_name + '_footprints'))\n",
    "\n",
    "    if arcpy.Exists(cool_roof_footprints_layer): #an existing out_slope_raster would mean this town has already been processed\n",
    "        \n",
    "        pass \n",
    "\n",
    "    else:    \n",
    "    \n",
    "        rooftops_layer = make_coolroof_roofprints_layer(town_name=town_name)\n",
    "        \n",
    "        #input for the cool_roof_process() function has to be a gdf\n",
    "        rooftops_gdf = gpd.read_file(cool_roofs_gdb, layer=(town_name + '_footprints'))\n",
    "\n",
    "        town_structures_w_info = cool_roof_process(town_name=town_name, \n",
    "                                                    rooftops_layer=rooftops_gdf,\n",
    "                                                    heat_blocks_layer=mmc_heat_blocks)\n"
   ]
  },
  {
   "cell_type": "code",
   "execution_count": null,
   "metadata": {},
   "outputs": [],
   "source": [
    "town_intensity_raster = ExtractByMask(intensity_raster, \n",
    "                                      town_boundary,\n",
    "                                    \"INSIDE\")\n",
    "\n",
    "print('reclassify, intensity')\n",
    "\n",
    "intensity_reclassified = arcpy.management.ReclassifyField(in_table=town_intensity_raster, \n",
    "                                                            field='VALUE', \n",
    "                                                            method='QUANTILE', \n",
    "                                                            classes=10)"
   ]
  },
  {
   "cell_type": "markdown",
   "metadata": {},
   "source": [
    "## Roof Extraction\n",
    "\n",
    "Drawing from [this tutorial](https://doc.arcgis.com/en/imagery/workflows/best-practices/las-dataset-to-create-dtm-and-dsm-rasters.htm).\n",
    "- Also [this video](https://www.youtube.com/watch?v=2pThNwhJ418&t=727s)\n",
    "\n",
    "Steps:\n",
    "- Generate a Digital Terrain Model (DTM) (LAS Dataset to Raster)\n",
    "- Generate a Digital Surface Model (DSM) (LAS Dataset to Raster)\n",
    "- Generate the Normalized Digital Surface Model (nDSM) (raster calculator)\n",
    "- Aspect and Slope of nDSM\n"
   ]
  },
  {
   "cell_type": "code",
   "execution_count": null,
   "metadata": {},
   "outputs": [],
   "source": [
    "## CREATE LAS DATASET ##\n",
    "\n",
    "point_selection_method = 'CLOSEST_TO_CENTER'\n",
    "\n",
    "arcpy.CreateLasDataset_management(input=las_folder,\n",
    "                                  out_las_dataset=las_dataset,\n",
    "                                  compute_stats='COMPUTE_STATS')\n",
    "                                  "
   ]
  },
  {
   "cell_type": "markdown",
   "metadata": {},
   "source": [
    "# Zonal Stats with slope and aspect"
   ]
  },
  {
   "cell_type": "code",
   "execution_count": null,
   "metadata": {},
   "outputs": [],
   "source": []
  },
  {
   "cell_type": "code",
   "execution_count": null,
   "metadata": {},
   "outputs": [],
   "source": [
    "\n"
   ]
  },
  {
   "cell_type": "code",
   "execution_count": null,
   "metadata": {},
   "outputs": [],
   "source": [
    "## NDSM ##"
   ]
  },
  {
   "cell_type": "code",
   "execution_count": null,
   "metadata": {},
   "outputs": [],
   "source": [
    "arcpy.management.BuildLasDatasetPyramid(in_las_dataset=las_dataset,\n",
    "                                 point_selection_method=point_selection_method)"
   ]
  }
 ],
 "metadata": {
  "kernelspec": {
   "display_name": "envs",
   "language": "python",
   "name": "python3"
  },
  "language_info": {
   "codemirror_mode": {
    "name": "ipython",
    "version": 3
   },
   "file_extension": ".py",
   "mimetype": "text/x-python",
   "name": "python",
   "nbconvert_exporter": "python",
   "pygments_lexer": "ipython3",
   "version": "3.9.18"
  }
 },
 "nbformat": 4,
 "nbformat_minor": 2
}
