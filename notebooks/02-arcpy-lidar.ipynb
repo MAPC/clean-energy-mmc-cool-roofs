{
 "cells": [
  {
   "cell_type": "code",
   "execution_count": 1,
   "metadata": {},
   "outputs": [],
   "source": [
    "#arcpy to process LIDAR data    \n",
    "%load_ext autoreload\n",
    "%autoreload 2\n",
    "\n",
    "from arcpy import env\n",
    "import pandas as pd\n",
    "from arcgis.features import GeoAccessor, GeoSeriesAccessor\n",
    "from arcpy.sa import *\n",
    "\n",
    "import sys\n",
    "sys.path.append(\"..\")\n",
    "\n",
    "from src.features.create_rasters import *\n",
    "from src.features.arcpy_scripts import *\n",
    "from src.features.custom_functions import * \n"
   ]
  },
  {
   "cell_type": "code",
   "execution_count": null,
   "metadata": {},
   "outputs": [],
   "source": [
    "#define variables - not sure if this is necessary? probably not?\n",
    "\n",
    "#project geodatabase\n",
    "#env.workspace = r'C:\\Users\\rbowers\\Desktop\\cool_roof_analysis_offnetwork.gdb'\n",
    "#env.overwriteOutput = True\n",
    "\n",
    "#dataset file path\n",
    "#las_dataset = r'I:\\Imagery\\MassGIS_LAS_files\\MMC_lasdataset.lasd'\n",
    "\n",
    "#arcpy.env.outputCoordinateSystem = arcpy.SpatialReference(\"NAD 1983 StatePlane Massachusetts FIPS 2001 (Meters)\")\n"
   ]
  },
  {
   "cell_type": "markdown",
   "metadata": {},
   "source": [
    "### Run these only if need be \n",
    "\n",
    "- las_dataset was last created for all MMC on 5/1/2024\n",
    "- heat_score_mmc was last created for all MMC on 5/1/2024"
   ]
  },
  {
   "cell_type": "code",
   "execution_count": null,
   "metadata": {},
   "outputs": [],
   "source": [
    "#only run this if need be [last run on all MMC: 5/1/2024]\n",
    "from src.data.make_dataset import heat_fp, las_folder\n",
    "\n",
    "\n",
    "#las_dataset = create_las_dataset(las_folder=las_folder, las_dataset=las_dataset)\n",
    "\n",
    "heat_score_mmc = get_heat_score_mmc(heat_index_fp=heat_fp)"
   ]
  },
  {
   "cell_type": "markdown",
   "metadata": {},
   "source": [
    "### First create slope and intensity rasters for each municipality\n",
    "\n",
    "Result in geodatabase should be just a slope and intensity raster for each muni - note, as of 5/22, this can be skipped (unless you need to rerun any of them)"
   ]
  },
  {
   "cell_type": "code",
   "execution_count": null,
   "metadata": {},
   "outputs": [],
   "source": [
    "mmc_town_names = ['Arlington', 'Boston', 'Braintree', 'Brookline', 'Cambridge', 'Chelsea', \n",
    "             'Everett', 'Malden', 'Medford', 'Melrose', 'Newton', 'Quincy', 'Revere', \n",
    "             'Somerville', 'Watertown', 'Winthrop']\n",
    "\n",
    "\n",
    "#note that Revere was removed from this list since it was the test one \n",
    "\n",
    "from datetime import datetime\n",
    "\n",
    "for town_name in mmc_town_names:\n",
    "    \n",
    "    print(town_name + ' processing starting at ' + str(datetime.now()))\n",
    "\n",
    "\n",
    "    las_dataset = create_las_dataset(town_name = town_name, \n",
    "                                     las_folder=las_folder)\n",
    "    \n",
    "\n",
    "    ndsm_raster = create_ndsm_raster(town_name=town_name,\n",
    "                                    las_dataset=las_dataset)\n",
    "    \n",
    "\n",
    "    slope_raster = create_slope_raster(town_name=town_name,\n",
    "                                        ndsm_raster=ndsm_raster)\n",
    "    \n",
    "    #removing aspect for now, may include later to refine the flat roof analysis\n",
    "    #aspect_raster = create_aspect_raster(town_name=town_name,\n",
    "    #                                     ndsm_raster=ndsm_raster)\n",
    "\n",
    "\n",
    "    intensity_raster = create_intensity_raster(town_name=town_name, \n",
    "                                                las_dataset=las_dataset)\n"
   ]
  },
  {
   "cell_type": "markdown",
   "metadata": {},
   "source": [
    "### Then create enriched roofprint polygon datasets"
   ]
  },
  {
   "cell_type": "code",
   "execution_count": null,
   "metadata": {},
   "outputs": [],
   "source": [
    "from src.data.make_dataset import mmc_heat_blocks\n",
    "from datetime import datetime\n",
    "\n",
    "\n",
    "mmc_town_names = ['Arlington', 'Boston', 'Braintree', 'Brookline', 'Cambridge', 'Chelsea', \n",
    "             'Everett', 'Malden', 'Medford', 'Melrose', 'Newton', 'Quincy', 'Revere', \n",
    "             'Somerville', 'Watertown', 'Winthrop']\n",
    "\n",
    "for town_name in mmc_town_names:\n",
    "  \n",
    "    data_folder = r'K:\\DataServices\\Projects\\Current_Projects\\Climate_Change\\MVP_MMC_CoolRoofs_MVP\\Data\\Intermediate'\n",
    "    cool_roof_footprints_layer = os.path.join(data_folder, (town_name + '_cool_roofs.shp'))\n",
    "    \n",
    "    if arcpy.Exists(cool_roof_footprints_layer): #an existing out_slope_raster would mean this town has already been processed\n",
    "        print('cool roofs have been processed for ' + town_name + '. Moving to next town.')\n",
    "        pass\n",
    "\n",
    "\n",
    "    else:\n",
    "        print(town_name + ' processing starting at ' + str(datetime.now()))\n",
    "    \n",
    "        rooftops_layer = make_coolroof_roofprints_layer(town_name=town_name)\n",
    "        \n",
    "        #input for the cool_roof_process() function has to be a gdf\n",
    "        rooftops_gdf = gpd.read_file(cool_roofs_gdb, layer=(town_name + '_footprints'))\n",
    "\n",
    "        town_structures_w_info = cool_roof_process(town_name=town_name, \n",
    "                                                    rooftops_layer=rooftops_gdf,\n",
    "                                                    heat_blocks_layer=mmc_heat_blocks)\n"
   ]
  },
  {
   "cell_type": "code",
   "execution_count": 3,
   "metadata": {},
   "outputs": [],
   "source": [
    "#input for the cool_roof_process() function has to be a gdf\n",
    "town_name = 'Boston'\n",
    "\n",
    "rooftops_gdf = gpd.read_file(cool_roofs_gdb, layer=(town_name + '_footprints'))\n",
    "\n",
    "town_structures_w_info = cool_roof_process(town_name='Boston', \n",
    "                                            rooftops_layer=rooftops_gdf,\n",
    "                                            heat_blocks_layer=mmc_heat_blocks)\n"
   ]
  },
  {
   "cell_type": "code",
   "execution_count": null,
   "metadata": {},
   "outputs": [],
   "source": [
    "boston_parcels.head()"
   ]
  },
  {
   "cell_type": "code",
   "execution_count": null,
   "metadata": {},
   "outputs": [],
   "source": [
    "## CREATE LAS DATASET ##\n",
    "\n",
    "point_selection_method = 'CLOSEST_TO_CENTER'\n",
    "\n",
    "arcpy.CreateLasDataset_management(input=las_folder,\n",
    "                                  out_las_dataset=las_dataset,\n",
    "                                  compute_stats='COMPUTE_STATS')\n",
    "                                  "
   ]
  }
 ],
 "metadata": {
  "kernelspec": {
   "display_name": "envs",
   "language": "python",
   "name": "python3"
  },
  "language_info": {
   "codemirror_mode": {
    "name": "ipython",
    "version": 3
   },
   "file_extension": ".py",
   "mimetype": "text/x-python",
   "name": "python",
   "nbconvert_exporter": "python",
   "pygments_lexer": "ipython3",
   "version": "3.9.18"
  }
 },
 "nbformat": 4,
 "nbformat_minor": 2
}
