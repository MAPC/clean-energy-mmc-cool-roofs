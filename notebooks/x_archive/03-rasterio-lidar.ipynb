{
 "cells": [
  {
   "cell_type": "code",
   "execution_count": 2,
   "metadata": {},
   "outputs": [],
   "source": [
    "#we need to do this in rasterio, not working in arcpy\n",
    "\n",
    "import os\n",
    "os.environ['USE_PYGEOS'] = '0'\n",
    "import pandas as pd\n",
    "import geopandas as gpd\n",
    "from matplotlib import pyplot as plt\n",
    "import seaborn as sns\n",
    "import numpy as np\n",
    "import statsmodels.api as sm\n",
    "from statsmodels.formula.api import ols\n",
    "from rasterstats import zonal_stats\n",
    "import rasterio\n",
    "from rasterio.plot import show\n",
    "#import osmnx as ox\n",
    "from affine import Affine\n",
    "import rioxarray as rx\n",
    "from multiprocessing import Pool, cpu_count\n",
    "from shapely.ops import unary_union\n",
    "import numpy as np\n",
    "from osgeo import gdal\n",
    "import matplotlib.pyplot as plt\n",
    "%matplotlib inline\n",
    "import warnings\n",
    "warnings.filterwarnings('ignore')\n",
    "from collections import defaultdict\n",
    "from pathlib import Path\n",
    "import fiona\n",
    "from affine import Affine\n",
    "from rasterio.profiles import DefaultGTiffProfile\n",
    "from rasterio import MemoryFile\n",
    "import copy\n",
    "from rasterio.features import shapes\n",
    "from rasterio.merge import merge\n",
    "from osgeo import gdal"
   ]
  },
  {
   "cell_type": "code",
   "execution_count": 4,
   "metadata": {},
   "outputs": [
    {
     "name": "stdout",
     "output_type": "stream",
     "text": [
      "K:\\DataServices\\Projects\\Current_Projects\\Climate_Change\\MVP_MMC_CoolRoofs_MVP\\ArcGIS\\CoolRoofs_Analysis.gdb\\Revere_slope_buildings_ndsm\n"
     ]
    }
   ],
   "source": [
    "town_name = 'Revere'\n",
    "gdb = r'K:\\DataServices\\Projects\\Current_Projects\\Climate_Change\\MVP_MMC_CoolRoofs_MVP\\ArcGIS\\CoolRoofs_Analysis.gdb'\n",
    "layer = town_name + '_slope_buildings_ndsm'\n",
    "slope_raster = os.path.join(gdb, layer)\n",
    "print(slope_raster)"
   ]
  },
  {
   "cell_type": "code",
   "execution_count": 8,
   "metadata": {},
   "outputs": [
    {
     "data": {
      "text/plain": [
       "<open DatasetReader name='K:/DataServices/Projects/Current_Projects/Climate_Change/MVP_MMC_CoolRoofs_MVP/ArcGIS/CoolRoofs_Analysis.gdb' mode='r'>"
      ]
     },
     "execution_count": 8,
     "metadata": {},
     "output_type": "execute_result"
    }
   ],
   "source": [
    "src = rasterio.open(gdb)\n",
    "src"
   ]
  }
 ],
 "metadata": {
  "kernelspec": {
   "display_name": "ArcPy",
   "language": "python",
   "name": "python3"
  },
  "language_info": {
   "codemirror_mode": {
    "name": "ipython",
    "version": 3
   },
   "file_extension": ".py",
   "mimetype": "text/x-python",
   "name": "python",
   "nbconvert_exporter": "python",
   "pygments_lexer": "ipython3",
   "version": "3.11.7"
  }
 },
 "nbformat": 4,
 "nbformat_minor": 2
}
