{
 "cells": [
  {
   "cell_type": "code",
   "execution_count": 1,
   "metadata": {},
   "outputs": [],
   "source": [
    "#import packages \n",
    "\n",
    "%load_ext autoreload\n",
    "%autoreload 2\n",
    "\n",
    "import sys\n",
    "sys.path.append(\"..\")\n",
    "import os\n",
    "os.environ['USE_PYGEOS'] = '0'\n",
    "import pandas as pd\n",
    "import geopandas as gpd\n",
    "\n",
    "\n",
    "#see all columns in tables\n",
    "pd.set_option('display.max_columns', None)\n",
    "\n"
   ]
  },
  {
   "cell_type": "code",
   "execution_count": 2,
   "metadata": {},
   "outputs": [],
   "source": [
    "%reload_ext autoreload\n",
    "from src.data.make_dataset import *\n",
    "from src.features.custom_functions import *\n"
   ]
  },
  {
   "cell_type": "code",
   "execution_count": 3,
   "metadata": {},
   "outputs": [],
   "source": [
    "intermediate_fp = r\"K:\\DataServices\\Projects\\Current_Projects\\Climate_Change\\MVP_MMC_CoolRoofs_MVP\\Data\\Intermediate\"\n"
   ]
  },
  {
   "cell_type": "code",
   "execution_count": null,
   "metadata": {},
   "outputs": [],
   "source": [
    "#create empty dataframe\n",
    "mmc_data_frame = pd.DataFrame(columns=['muni', 'count_ej_public_highheat', '1_use', '1_count', '1_pct',\n",
    "                                    '2_use', '2_count', '2_pct', '3_use', '3_count', '3_pct', '4_use',\n",
    "                                    '4_count', '4_pct', '5_use', '5_count', '5_pct',\n",
    "                                    'private_ownership_pct', 'public_ownership_pct'])\n",
    "\n",
    "\n",
    "#muni_shp_list = []\n",
    "\n",
    "for root, folder, files in os.walk(ms4_parcels_folder):\n",
    "    for file in files:\n",
    "        for muni in mmc_munis:\n",
    "            if muni in file:\n",
    "                #grab shapefile for muni parcels from ms4 parcels folder\n",
    "                if file.endswith('.shp'):\n",
    "                    fullname = os.path.join(root, file)\n",
    "                    #run muni_process to get dataframe row for muni summary\n",
    "                    muni_df = muni_process(muni, fullname)\n",
    "                    #add row to data frame\n",
    "                    mmc_data_frame = mmc_data_frame.append(muni_df, ignore_index=True)\n",
    "\n",
    "#mmc_gdf = gpd.GeoDataFrame(pd.concat([gpd.read_file(i) for i in muni_shp_list], \n",
    "#                        ignore_index=True), crs=gpd.read_file(muni_shp_list[0]).crs)\n",
    "\n",
    "#export dataframe to a muni summary table\n",
    "mmc_data_frame.to_csv(intermediate_fp + '\\\\MMC_muni_summaries_realestate_codes.csv')"
   ]
  }
 ],
 "metadata": {
  "kernelspec": {
   "display_name": "ms4_env",
   "language": "python",
   "name": "python3"
  },
  "language_info": {
   "codemirror_mode": {
    "name": "ipython",
    "version": 3
   },
   "file_extension": ".py",
   "mimetype": "text/x-python",
   "name": "python",
   "nbconvert_exporter": "python",
   "pygments_lexer": "ipython3",
   "version": "3.10.8"
  },
  "orig_nbformat": 4
 },
 "nbformat": 4,
 "nbformat_minor": 2
}
